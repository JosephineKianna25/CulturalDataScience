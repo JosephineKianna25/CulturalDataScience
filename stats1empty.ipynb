{
 "cells": [
  {
   "cell_type": "markdown",
   "id": "1a846cfe-d705-4f1f-866b-b4b370af384d",
   "metadata": {},
   "source": [
    "# Part 1 - The basics"
   ]
  },
  {
   "cell_type": "markdown",
   "id": "223204e5-f880-46d3-b81f-63e24071759b",
   "metadata": {},
   "source": [
    "R is just a calculator."
   ]
  },
  {
   "cell_type": "code",
   "execution_count": 150,
   "id": "21e221b0-07e2-49e1-b9a9-c3950d59cf3d",
   "metadata": {},
   "outputs": [
    {
     "data": {
      "text/html": [
       "7"
      ],
      "text/latex": [
       "7"
      ],
      "text/markdown": [
       "7"
      ],
      "text/plain": [
       "[1] 7"
      ]
     },
     "metadata": {},
     "output_type": "display_data"
    }
   ],
   "source": [
    "4+3"
   ]
  },
  {
   "cell_type": "code",
   "execution_count": 151,
   "id": "265925a8-24b1-497f-ad40-fb97d803ce77",
   "metadata": {},
   "outputs": [
    {
     "data": {
      "text/html": [
       "1"
      ],
      "text/latex": [
       "1"
      ],
      "text/markdown": [
       "1"
      ],
      "text/plain": [
       "[1] 1"
      ]
     },
     "metadata": {},
     "output_type": "display_data"
    }
   ],
   "source": [
    "4-3"
   ]
  },
  {
   "cell_type": "markdown",
   "id": "5acd0cf3-6792-4e36-8e68-79c022c09f93",
   "metadata": {},
   "source": [
    "There is special syntax for multiplication and division."
   ]
  },
  {
   "cell_type": "code",
   "execution_count": 152,
   "id": "b77555ea-1d89-4527-a565-5c1966606e2d",
   "metadata": {},
   "outputs": [
    {
     "data": {
      "text/html": [
       "15"
      ],
      "text/latex": [
       "15"
      ],
      "text/markdown": [
       "15"
      ],
      "text/plain": [
       "[1] 15"
      ]
     },
     "metadata": {},
     "output_type": "display_data"
    }
   ],
   "source": [
    "5*3"
   ]
  },
  {
   "cell_type": "code",
   "execution_count": 153,
   "id": "ef1d5efe-3dea-40dd-b96c-88ad80fb0a15",
   "metadata": {},
   "outputs": [
    {
     "data": {
      "text/html": [
       "3"
      ],
      "text/latex": [
       "3"
      ],
      "text/markdown": [
       "3"
      ],
      "text/plain": [
       "[1] 3"
      ]
     },
     "metadata": {},
     "output_type": "display_data"
    }
   ],
   "source": [
    "12/4"
   ]
  },
  {
   "cell_type": "markdown",
   "id": "74e06cd4-c9cc-46cd-91eb-154947ae895a",
   "metadata": {},
   "source": [
    "We can also assign numbers to variables and to operations."
   ]
  },
  {
   "cell_type": "code",
   "execution_count": 154,
   "id": "ffbb4db1-36f8-4371-b860-b9e1136b93b7",
   "metadata": {},
   "outputs": [
    {
     "data": {
      "text/html": [
       "7"
      ],
      "text/latex": [
       "7"
      ],
      "text/markdown": [
       "7"
      ],
      "text/plain": [
       "[1] 7"
      ]
     },
     "metadata": {},
     "output_type": "display_data"
    }
   ],
   "source": [
    "A <- 4\n",
    "B <- 3\n",
    "A + B"
   ]
  },
  {
   "cell_type": "markdown",
   "id": "e849af61-59e4-4c22-8359-93fbf214c73b",
   "metadata": {},
   "source": [
    "A function is just something with an input and an output."
   ]
  },
  {
   "cell_type": "code",
   "execution_count": 155,
   "id": "61462036-ed36-4270-a768-fd130530865e",
   "metadata": {},
   "outputs": [
    {
     "data": {
      "text/html": [
       "7"
      ],
      "text/latex": [
       "7"
      ],
      "text/markdown": [
       "7"
      ],
      "text/plain": [
       "[1] 7"
      ]
     },
     "metadata": {},
     "output_type": "display_data"
    }
   ],
   "source": [
    "sum(4, 3)"
   ]
  },
  {
   "cell_type": "code",
   "execution_count": 156,
   "id": "c5260e87-8683-4e6b-91ab-383c9637aa76",
   "metadata": {},
   "outputs": [
    {
     "data": {
      "text/html": [
       "2"
      ],
      "text/latex": [
       "2"
      ],
      "text/markdown": [
       "2"
      ],
      "text/plain": [
       "[1] 2"
      ]
     },
     "metadata": {},
     "output_type": "display_data"
    }
   ],
   "source": [
    "sqrt(4)"
   ]
  },
  {
   "cell_type": "code",
   "execution_count": 157,
   "id": "11c137cb-3fb2-4a4d-8b27-6b59f52739a9",
   "metadata": {},
   "outputs": [
    {
     "data": {
      "text/html": [
       "7"
      ],
      "text/latex": [
       "7"
      ],
      "text/markdown": [
       "7"
      ],
      "text/plain": [
       "[1] 7"
      ]
     },
     "metadata": {},
     "output_type": "display_data"
    }
   ],
   "source": [
    "sum(A, B)"
   ]
  },
  {
   "cell_type": "markdown",
   "id": "3e91f7cc-255b-48f4-ab57-eb7391ee4abb",
   "metadata": {},
   "source": [
    "# Part 2 - A bit more advanced"
   ]
  },
  {
   "cell_type": "markdown",
   "id": "248b1114-2884-4f05-bffc-56e160aea5cc",
   "metadata": {},
   "source": [
    "The nice thing about R is that unlike on a calculator, you can keep track of your operations. This is important for reproducing your work, and doing more complicated stuff. Let's look at some of this more complicated stuff!"
   ]
  },
  {
   "cell_type": "markdown",
   "id": "ac06ad57-0aeb-4026-94da-8c7c106cf4f5",
   "metadata": {},
   "source": [
    "We can assign lists of numbers to variables. This is called an array.\n",
    "'c' is just a function. It means 'concatenate'."
   ]
  },
  {
   "cell_type": "code",
   "execution_count": 158,
   "id": "4e6a29ac-95f4-4fb9-990b-8a62069bcd76",
   "metadata": {},
   "outputs": [],
   "source": [
    "listOfNumbers <- c(1, 2, 3, 4, 5)\n",
    "secondListOfNumbers <- c(2, 2, 2, 2, 2)"
   ]
  },
  {
   "cell_type": "markdown",
   "id": "c24e1454-776f-4daf-a99e-25200904b9ee",
   "metadata": {},
   "source": [
    "We can do operations on lists too, the same as for simpler variables.\n",
    "We can make a new variable in the process."
   ]
  },
  {
   "cell_type": "code",
   "execution_count": 159,
   "id": "aba7981c-75e6-4f6d-a5cf-9820890daa6b",
   "metadata": {},
   "outputs": [],
   "source": [
    "C <- listOfNumbers + secondListOfNumbers"
   ]
  },
  {
   "cell_type": "markdown",
   "id": "9bc9f880-9552-48c3-9e09-18c606f30a30",
   "metadata": {},
   "source": [
    "To see the output, you need to call the variable directly."
   ]
  },
  {
   "cell_type": "code",
   "execution_count": 160,
   "id": "2860fb03-b59f-414b-87a2-7f181486fee2",
   "metadata": {},
   "outputs": [
    {
     "data": {
      "text/html": [
       "<style>\n",
       ".list-inline {list-style: none; margin:0; padding: 0}\n",
       ".list-inline>li {display: inline-block}\n",
       ".list-inline>li:not(:last-child)::after {content: \"\\00b7\"; padding: 0 .5ex}\n",
       "</style>\n",
       "<ol class=list-inline><li>3</li><li>4</li><li>5</li><li>6</li><li>7</li></ol>\n"
      ],
      "text/latex": [
       "\\begin{enumerate*}\n",
       "\\item 3\n",
       "\\item 4\n",
       "\\item 5\n",
       "\\item 6\n",
       "\\item 7\n",
       "\\end{enumerate*}\n"
      ],
      "text/markdown": [
       "1. 3\n",
       "2. 4\n",
       "3. 5\n",
       "4. 6\n",
       "5. 7\n",
       "\n",
       "\n"
      ],
      "text/plain": [
       "[1] 3 4 5 6 7"
      ]
     },
     "metadata": {},
     "output_type": "display_data"
    }
   ],
   "source": [
    "C"
   ]
  },
  {
   "cell_type": "markdown",
   "id": "acfd0860-c27e-4e04-b5ba-ab599b7f9986",
   "metadata": {},
   "source": [
    "We can use other functions to make lists. We can make sequences..."
   ]
  },
  {
   "cell_type": "code",
   "execution_count": 161,
   "id": "df9fb366-73e2-41f9-95ae-dbb3c2cc57c3",
   "metadata": {},
   "outputs": [
    {
     "data": {
      "text/html": [
       "<style>\n",
       ".list-inline {list-style: none; margin:0; padding: 0}\n",
       ".list-inline>li {display: inline-block}\n",
       ".list-inline>li:not(:last-child)::after {content: \"\\00b7\"; padding: 0 .5ex}\n",
       "</style>\n",
       "<ol class=list-inline><li>1</li><li>3</li><li>5</li><li>7</li><li>9</li></ol>\n"
      ],
      "text/latex": [
       "\\begin{enumerate*}\n",
       "\\item 1\n",
       "\\item 3\n",
       "\\item 5\n",
       "\\item 7\n",
       "\\item 9\n",
       "\\end{enumerate*}\n"
      ],
      "text/markdown": [
       "1. 1\n",
       "2. 3\n",
       "3. 5\n",
       "4. 7\n",
       "5. 9\n",
       "\n",
       "\n"
      ],
      "text/plain": [
       "[1] 1 3 5 7 9"
      ]
     },
     "metadata": {},
     "output_type": "display_data"
    }
   ],
   "source": [
    "aSequence <- seq(1, 10, 2)\n",
    "aSequence"
   ]
  },
  {
   "cell_type": "markdown",
   "id": "2fb47e4b-4003-47a5-b65f-5eb3ce8450a6",
   "metadata": {},
   "source": [
    "...or repeat numbers"
   ]
  },
  {
   "cell_type": "code",
   "execution_count": 162,
   "id": "8a60419c-b130-421d-b220-41465cf63a47",
   "metadata": {},
   "outputs": [
    {
     "data": {
      "text/html": [
       "<style>\n",
       ".list-inline {list-style: none; margin:0; padding: 0}\n",
       ".list-inline>li {display: inline-block}\n",
       ".list-inline>li:not(:last-child)::after {content: \"\\00b7\"; padding: 0 .5ex}\n",
       "</style>\n",
       "<ol class=list-inline><li>2</li><li>2</li><li>2</li><li>2</li><li>2</li></ol>\n"
      ],
      "text/latex": [
       "\\begin{enumerate*}\n",
       "\\item 2\n",
       "\\item 2\n",
       "\\item 2\n",
       "\\item 2\n",
       "\\item 2\n",
       "\\end{enumerate*}\n"
      ],
      "text/markdown": [
       "1. 2\n",
       "2. 2\n",
       "3. 2\n",
       "4. 2\n",
       "5. 2\n",
       "\n",
       "\n"
      ],
      "text/plain": [
       "[1] 2 2 2 2 2"
      ]
     },
     "metadata": {},
     "output_type": "display_data"
    }
   ],
   "source": [
    "repeatedNumbers <- rep(2, 5)\n",
    "repeatedNumbers"
   ]
  },
  {
   "cell_type": "markdown",
   "id": "ceb4a06c-2759-42d7-b834-c66398ac717c",
   "metadata": {},
   "source": [
    "We can also generate random lists."
   ]
  },
  {
   "cell_type": "code",
   "execution_count": 163,
   "id": "a0b7baea-94b1-4e6e-8285-fb166af80ca8",
   "metadata": {},
   "outputs": [],
   "source": [
    "weight3 <- runif(30, 60, 120)\n",
    "weight4 <- runif(30, 80, 140)\n",
    "\n",
    "# uniform distribution - en fordeling hvor chancen for at få hvert nummer er lige stor"
   ]
  },
  {
   "cell_type": "markdown",
   "id": "a9b41cdd-8549-426c-a63a-c48eaef7bebb",
   "metadata": {},
   "source": [
    "A uniform distribution is a probability distribution in which all outcomes are equally likely, resulting in a constant probability density across a specified interval."
   ]
  },
  {
   "cell_type": "markdown",
   "id": "79545d3b-fcaa-4cef-8c6b-ede5ac095ebe",
   "metadata": {},
   "source": [
    "If you are unsure about how a function works, there's a built-in way to get help:"
   ]
  },
  {
   "cell_type": "code",
   "execution_count": 164,
   "id": "f032b628-f242-4e9a-a621-b48c232cf34a",
   "metadata": {},
   "outputs": [
    {
     "data": {
      "text/html": [
       "\n",
       "<table style=\"width: 100%;\"><tr><td>Uniform {stats}</td><td style=\"text-align: right;\">R Documentation</td></tr></table>\n",
       "\n",
       "<h2>The Uniform Distribution</h2>\n",
       "\n",
       "<h3>Description</h3>\n",
       "\n",
       "<p>These functions provide information about the uniform distribution\n",
       "on the interval from <code>min</code> to <code>max</code>.  <code>dunif</code> gives the\n",
       "density, <code>punif</code> gives the distribution function <code>qunif</code>\n",
       "gives the quantile function and <code>runif</code> generates random\n",
       "deviates.\n",
       "</p>\n",
       "\n",
       "\n",
       "<h3>Usage</h3>\n",
       "\n",
       "<pre><code class='language-R'>dunif(x, min = 0, max = 1, log = FALSE)\n",
       "punif(q, min = 0, max = 1, lower.tail = TRUE, log.p = FALSE)\n",
       "qunif(p, min = 0, max = 1, lower.tail = TRUE, log.p = FALSE)\n",
       "runif(n, min = 0, max = 1)\n",
       "</code></pre>\n",
       "\n",
       "\n",
       "<h3>Arguments</h3>\n",
       "\n",
       "<table>\n",
       "<tr><td><code id=\"x\">x</code>, <code id=\"q\">q</code></td>\n",
       "<td>\n",
       "<p>vector of quantiles.</p>\n",
       "</td></tr>\n",
       "<tr><td><code id=\"p\">p</code></td>\n",
       "<td>\n",
       "<p>vector of probabilities.</p>\n",
       "</td></tr>\n",
       "<tr><td><code id=\"n\">n</code></td>\n",
       "<td>\n",
       "<p>number of observations. If <code>length(n) &gt; 1</code>, the length\n",
       "is taken to be the number required.</p>\n",
       "</td></tr>\n",
       "<tr><td><code id=\"min\">min</code>, <code id=\"max\">max</code></td>\n",
       "<td>\n",
       "<p>lower and upper limits of the distribution.  Must be finite.</p>\n",
       "</td></tr>\n",
       "<tr><td><code id=\"log\">log</code>, <code id=\"log.p\">log.p</code></td>\n",
       "<td>\n",
       "<p>logical; if TRUE, probabilities p are given as log(p).</p>\n",
       "</td></tr>\n",
       "<tr><td><code id=\"lower.tail\">lower.tail</code></td>\n",
       "<td>\n",
       "<p>logical; if TRUE (default), probabilities are\n",
       "<code class=\"reqn\">P[X \\le x]</code>, otherwise, <code class=\"reqn\">P[X &gt; x]</code>.</p>\n",
       "</td></tr>\n",
       "</table>\n",
       "\n",
       "\n",
       "<h3>Details</h3>\n",
       "\n",
       "<p>If <code>min</code> or <code>max</code> are not specified they assume the default\n",
       "values of <code>0</code> and <code>1</code> respectively.\n",
       "</p>\n",
       "<p>The uniform distribution has density\n",
       "</p>\n",
       "<p style=\"text-align: center;\"><code class=\"reqn\">f(x) = \\frac{1}{max-min}</code>\n",
       "</p>\n",
       "\n",
       "<p>for <code class=\"reqn\">min \\le x \\le max</code>.\n",
       "</p>\n",
       "<p>For the case of <code class=\"reqn\">u := min == max</code>, the limit case of\n",
       "<code class=\"reqn\">X \\equiv u</code> is assumed, although there is no density in\n",
       "that case and <code>dunif</code> will return <code>NaN</code> (the error condition).\n",
       "</p>\n",
       "<p><code>runif</code> will not generate either of the extreme values unless\n",
       "<code>max = min</code> or <code>max-min</code> is small compared to <code>min</code>,\n",
       "and in particular not for the default arguments.\n",
       "</p>\n",
       "\n",
       "\n",
       "<h3>Value</h3>\n",
       "\n",
       "<p><code>dunif</code> gives the density,\n",
       "<code>punif</code> gives the distribution function,\n",
       "<code>qunif</code> gives the quantile function, and\n",
       "<code>runif</code> generates random deviates.\n",
       "</p>\n",
       "<p>The length of the result is determined by <code>n</code> for\n",
       "<code>runif</code>, and is the maximum of the lengths of the\n",
       "numerical arguments for the other functions.  \n",
       "</p>\n",
       "<p>The numerical arguments other than <code>n</code> are recycled to the\n",
       "length of the result.  Only the first elements of the logical\n",
       "arguments are used.\n",
       "</p>\n",
       "\n",
       "\n",
       "<h3>Note</h3>\n",
       "\n",
       "<p>The characteristics of output from pseudo-random number generators\n",
       "(such as precision and periodicity) vary widely.  See\n",
       "<code>.Random.seed</code> for more information on <span class=\"rlang\"><b>R</b></span>'s random number\n",
       "generation algorithms.\n",
       "</p>\n",
       "\n",
       "\n",
       "<h3>References</h3>\n",
       "\n",
       "<p>Becker, R. A., Chambers, J. M. and Wilks, A. R. (1988)\n",
       "<em>The New S Language</em>.\n",
       "Wadsworth &amp; Brooks/Cole.\n",
       "</p>\n",
       "\n",
       "\n",
       "<h3>See Also</h3>\n",
       "\n",
       "<p><code>RNG</code> about random number generation in <span class=\"rlang\"><b>R</b></span>.\n",
       "</p>\n",
       "<p>Distributions for other standard distributions.\n",
       "</p>\n",
       "\n",
       "\n",
       "<h3>Examples</h3>\n",
       "\n",
       "<pre><code class='language-R'>u &lt;- runif(20)\n",
       "\n",
       "## The following relations always hold :\n",
       "punif(u) == u\n",
       "dunif(u) == 1\n",
       "\n",
       "var(runif(10000))  #- ~ = 1/12 = .08333\n",
       "</code></pre>\n",
       "\n",
       "<hr /><div style=\"text-align: center;\">[Package <em>stats</em> version 4.4.1 ]</div></main>\n",
       "\n",
       "</div>"
      ],
      "text/latex": [
       "\\inputencoding{utf8}\n",
       "\\HeaderA{Uniform}{The Uniform Distribution}{Uniform}\n",
       "\\aliasA{dunif}{Uniform}{dunif}\n",
       "\\aliasA{punif}{Uniform}{punif}\n",
       "\\aliasA{qunif}{Uniform}{qunif}\n",
       "\\aliasA{runif}{Uniform}{runif}\n",
       "\\keyword{distribution}{Uniform}\n",
       "%\n",
       "\\begin{Description}\n",
       "These functions provide information about the uniform distribution\n",
       "on the interval from \\code{min} to \\code{max}.  \\code{dunif} gives the\n",
       "density, \\code{punif} gives the distribution function \\code{qunif}\n",
       "gives the quantile function and \\code{runif} generates random\n",
       "deviates.\n",
       "\\end{Description}\n",
       "%\n",
       "\\begin{Usage}\n",
       "\\begin{verbatim}\n",
       "dunif(x, min = 0, max = 1, log = FALSE)\n",
       "punif(q, min = 0, max = 1, lower.tail = TRUE, log.p = FALSE)\n",
       "qunif(p, min = 0, max = 1, lower.tail = TRUE, log.p = FALSE)\n",
       "runif(n, min = 0, max = 1)\n",
       "\\end{verbatim}\n",
       "\\end{Usage}\n",
       "%\n",
       "\\begin{Arguments}\n",
       "\\begin{ldescription}\n",
       "\\item[\\code{x}, \\code{q}] vector of quantiles.\n",
       "\\item[\\code{p}] vector of probabilities.\n",
       "\\item[\\code{n}] number of observations. If \\code{length(n) > 1}, the length\n",
       "is taken to be the number required.\n",
       "\\item[\\code{min}, \\code{max}] lower and upper limits of the distribution.  Must be finite.\n",
       "\\item[\\code{log}, \\code{log.p}] logical; if TRUE, probabilities p are given as log(p).\n",
       "\\item[\\code{lower.tail}] logical; if TRUE (default), probabilities are\n",
       "\\eqn{P[X \\le x]}{}, otherwise, \\eqn{P[X > x]}{}.\n",
       "\\end{ldescription}\n",
       "\\end{Arguments}\n",
       "%\n",
       "\\begin{Details}\n",
       "If \\code{min} or \\code{max} are not specified they assume the default\n",
       "values of \\code{0} and \\code{1} respectively.\n",
       "\n",
       "The uniform distribution has density\n",
       "\\deqn{f(x) = \\frac{1}{max-min}}{}\n",
       "for \\eqn{min \\le x \\le max}{}.\n",
       "\n",
       "For the case of \\eqn{u := min == max}{}, the limit case of\n",
       "\\eqn{X \\equiv u}{} is assumed, although there is no density in\n",
       "that case and \\code{dunif} will return \\code{NaN} (the error condition).\n",
       "\n",
       "\\code{runif} will not generate either of the extreme values unless\n",
       "\\code{max = min} or \\code{max-min} is small compared to \\code{min},\n",
       "and in particular not for the default arguments.\n",
       "\\end{Details}\n",
       "%\n",
       "\\begin{Value}\n",
       "\\code{dunif} gives the density,\n",
       "\\code{punif} gives the distribution function,\n",
       "\\code{qunif} gives the quantile function, and\n",
       "\\code{runif} generates random deviates.\n",
       "\n",
       "The length of the result is determined by \\code{n} for\n",
       "\\code{runif}, and is the maximum of the lengths of the\n",
       "numerical arguments for the other functions.  \n",
       "\n",
       "The numerical arguments other than \\code{n} are recycled to the\n",
       "length of the result.  Only the first elements of the logical\n",
       "arguments are used.\n",
       "\\end{Value}\n",
       "%\n",
       "\\begin{Note}\n",
       "The characteristics of output from pseudo-random number generators\n",
       "(such as precision and periodicity) vary widely.  See\n",
       "\\code{\\LinkA{.Random.seed}{.Random.seed}} for more information on \\R{}'s random number\n",
       "generation algorithms.\n",
       "\\end{Note}\n",
       "%\n",
       "\\begin{References}\n",
       "Becker, R. A., Chambers, J. M. and Wilks, A. R. (1988)\n",
       "\\emph{The New S Language}.\n",
       "Wadsworth \\& Brooks/Cole.\n",
       "\\end{References}\n",
       "%\n",
       "\\begin{SeeAlso}\n",
       "\\code{\\LinkA{RNG}{RNG}} about random number generation in \\R{}.\n",
       "\n",
       "\\LinkA{Distributions}{Distributions} for other standard distributions.\n",
       "\\end{SeeAlso}\n",
       "%\n",
       "\\begin{Examples}\n",
       "\\begin{ExampleCode}\n",
       "u <- runif(20)\n",
       "\n",
       "## The following relations always hold :\n",
       "punif(u) == u\n",
       "dunif(u) == 1\n",
       "\n",
       "var(runif(10000))  #- ~ = 1/12 = .08333\n",
       "\\end{ExampleCode}\n",
       "\\end{Examples}"
      ],
      "text/plain": [
       "Uniform                 package:stats                  R Documentation\n",
       "\n",
       "_\bT_\bh_\be _\bU_\bn_\bi_\bf_\bo_\br_\bm _\bD_\bi_\bs_\bt_\br_\bi_\bb_\bu_\bt_\bi_\bo_\bn\n",
       "\n",
       "_\bD_\be_\bs_\bc_\br_\bi_\bp_\bt_\bi_\bo_\bn:\n",
       "\n",
       "     These functions provide information about the uniform distribution\n",
       "     on the interval from ‘min’ to ‘max’.  ‘dunif’ gives the density,\n",
       "     ‘punif’ gives the distribution function ‘qunif’ gives the quantile\n",
       "     function and ‘runif’ generates random deviates.\n",
       "\n",
       "_\bU_\bs_\ba_\bg_\be:\n",
       "\n",
       "     dunif(x, min = 0, max = 1, log = FALSE)\n",
       "     punif(q, min = 0, max = 1, lower.tail = TRUE, log.p = FALSE)\n",
       "     qunif(p, min = 0, max = 1, lower.tail = TRUE, log.p = FALSE)\n",
       "     runif(n, min = 0, max = 1)\n",
       "     \n",
       "_\bA_\br_\bg_\bu_\bm_\be_\bn_\bt_\bs:\n",
       "\n",
       "    x, q: vector of quantiles.\n",
       "\n",
       "       p: vector of probabilities.\n",
       "\n",
       "       n: number of observations. If ‘length(n) > 1’, the length is\n",
       "          taken to be the number required.\n",
       "\n",
       "min, max: lower and upper limits of the distribution.  Must be finite.\n",
       "\n",
       "log, log.p: logical; if TRUE, probabilities p are given as log(p).\n",
       "\n",
       "lower.tail: logical; if TRUE (default), probabilities are P[X <= x],\n",
       "          otherwise, P[X > x].\n",
       "\n",
       "_\bD_\be_\bt_\ba_\bi_\bl_\bs:\n",
       "\n",
       "     If ‘min’ or ‘max’ are not specified they assume the default values\n",
       "     of ‘0’ and ‘1’ respectively.\n",
       "\n",
       "     The uniform distribution has density\n",
       "\n",
       "                             f(x) = 1/(max-min)                         \n",
       "     \n",
       "     for min <= x <= max.\n",
       "\n",
       "     For the case of u := min == max, the limit case of X == u is\n",
       "     assumed, although there is no density in that case and ‘dunif’\n",
       "     will return ‘NaN’ (the error condition).\n",
       "\n",
       "     ‘runif’ will not generate either of the extreme values unless ‘max\n",
       "     = min’ or ‘max-min’ is small compared to ‘min’, and in particular\n",
       "     not for the default arguments.\n",
       "\n",
       "_\bV_\ba_\bl_\bu_\be:\n",
       "\n",
       "     ‘dunif’ gives the density, ‘punif’ gives the distribution\n",
       "     function, ‘qunif’ gives the quantile function, and ‘runif’\n",
       "     generates random deviates.\n",
       "\n",
       "     The length of the result is determined by ‘n’ for ‘runif’, and is\n",
       "     the maximum of the lengths of the numerical arguments for the\n",
       "     other functions.\n",
       "\n",
       "     The numerical arguments other than ‘n’ are recycled to the length\n",
       "     of the result.  Only the first elements of the logical arguments\n",
       "     are used.\n",
       "\n",
       "_\bN_\bo_\bt_\be:\n",
       "\n",
       "     The characteristics of output from pseudo-random number generators\n",
       "     (such as precision and periodicity) vary widely.  See\n",
       "     ‘.Random.seed’ for more information on R's random number\n",
       "     generation algorithms.\n",
       "\n",
       "_\bR_\be_\bf_\be_\br_\be_\bn_\bc_\be_\bs:\n",
       "\n",
       "     Becker, R. A., Chambers, J. M. and Wilks, A. R. (1988) _The New S\n",
       "     Language_.  Wadsworth & Brooks/Cole.\n",
       "\n",
       "_\bS_\be_\be _\bA_\bl_\bs_\bo:\n",
       "\n",
       "     ‘RNG’ about random number generation in R.\n",
       "\n",
       "     Distributions for other standard distributions.\n",
       "\n",
       "_\bE_\bx_\ba_\bm_\bp_\bl_\be_\bs:\n",
       "\n",
       "     u <- runif(20)\n",
       "     \n",
       "     ## The following relations always hold :\n",
       "     punif(u) == u\n",
       "     dunif(u) == 1\n",
       "     \n",
       "     var(runif(10000))  #- ~ = 1/12 = .08333\n",
       "     "
      ]
     },
     "metadata": {},
     "output_type": "display_data"
    }
   ],
   "source": [
    "?runif # få dokumentationen for en funktion vist"
   ]
  },
  {
   "cell_type": "markdown",
   "id": "a2698634-aee6-4790-9067-9a70003b55cb",
   "metadata": {},
   "source": [
    "We don't have to use a uniform distribution. Actually, a normal distribution will be better. Let's do that instead."
   ]
  },
  {
   "cell_type": "code",
   "execution_count": 165,
   "id": "de4a1ed7-b9de-4d1c-aafb-f663ef593c78",
   "metadata": {},
   "outputs": [],
   "source": [
    "weight1 <- rnorm(30, 60, 10)\n",
    "weight2 <- rnorm(30, 80, 10)"
   ]
  },
  {
   "cell_type": "markdown",
   "id": "96fb9a30-367e-403a-8058-24b0715b1611",
   "metadata": {},
   "source": [
    "A normal distribution is a symmetric, bell-shaped probability distribution characterized by its mean and standard deviation, where approximately 68% of the data falls within one standard deviation of the mean."
   ]
  },
  {
   "cell_type": "markdown",
   "id": "a1468e8b-d238-4885-9d26-4502e6da5308",
   "metadata": {},
   "source": [
    "We can also make lists of words. This can be useful if our variables are categorical. "
   ]
  },
  {
   "cell_type": "code",
   "execution_count": 166,
   "id": "70879df2-7725-443e-8208-c4954b30a138",
   "metadata": {},
   "outputs": [
    {
     "data": {
      "text/html": [
       "<style>\n",
       ".list-inline {list-style: none; margin:0; padding: 0}\n",
       ".list-inline>li {display: inline-block}\n",
       ".list-inline>li:not(:last-child)::after {content: \"\\00b7\"; padding: 0 .5ex}\n",
       "</style>\n",
       "<ol class=list-inline><li>'Deer'</li><li>'Deer'</li><li>'Deer'</li><li>'Deer'</li><li>'Deer'</li><li>'Deer'</li><li>'Deer'</li><li>'Deer'</li><li>'Deer'</li><li>'Deer'</li><li>'Deer'</li><li>'Deer'</li><li>'Deer'</li><li>'Deer'</li><li>'Deer'</li><li>'Deer'</li><li>'Deer'</li><li>'Deer'</li><li>'Deer'</li><li>'Deer'</li><li>'Deer'</li><li>'Deer'</li><li>'Deer'</li><li>'Deer'</li><li>'Deer'</li><li>'Deer'</li><li>'Deer'</li><li>'Deer'</li><li>'Deer'</li><li>'Deer'</li></ol>\n"
      ],
      "text/latex": [
       "\\begin{enumerate*}\n",
       "\\item 'Deer'\n",
       "\\item 'Deer'\n",
       "\\item 'Deer'\n",
       "\\item 'Deer'\n",
       "\\item 'Deer'\n",
       "\\item 'Deer'\n",
       "\\item 'Deer'\n",
       "\\item 'Deer'\n",
       "\\item 'Deer'\n",
       "\\item 'Deer'\n",
       "\\item 'Deer'\n",
       "\\item 'Deer'\n",
       "\\item 'Deer'\n",
       "\\item 'Deer'\n",
       "\\item 'Deer'\n",
       "\\item 'Deer'\n",
       "\\item 'Deer'\n",
       "\\item 'Deer'\n",
       "\\item 'Deer'\n",
       "\\item 'Deer'\n",
       "\\item 'Deer'\n",
       "\\item 'Deer'\n",
       "\\item 'Deer'\n",
       "\\item 'Deer'\n",
       "\\item 'Deer'\n",
       "\\item 'Deer'\n",
       "\\item 'Deer'\n",
       "\\item 'Deer'\n",
       "\\item 'Deer'\n",
       "\\item 'Deer'\n",
       "\\end{enumerate*}\n"
      ],
      "text/markdown": [
       "1. 'Deer'\n",
       "2. 'Deer'\n",
       "3. 'Deer'\n",
       "4. 'Deer'\n",
       "5. 'Deer'\n",
       "6. 'Deer'\n",
       "7. 'Deer'\n",
       "8. 'Deer'\n",
       "9. 'Deer'\n",
       "10. 'Deer'\n",
       "11. 'Deer'\n",
       "12. 'Deer'\n",
       "13. 'Deer'\n",
       "14. 'Deer'\n",
       "15. 'Deer'\n",
       "16. 'Deer'\n",
       "17. 'Deer'\n",
       "18. 'Deer'\n",
       "19. 'Deer'\n",
       "20. 'Deer'\n",
       "21. 'Deer'\n",
       "22. 'Deer'\n",
       "23. 'Deer'\n",
       "24. 'Deer'\n",
       "25. 'Deer'\n",
       "26. 'Deer'\n",
       "27. 'Deer'\n",
       "28. 'Deer'\n",
       "29. 'Deer'\n",
       "30. 'Deer'\n",
       "\n",
       "\n"
      ],
      "text/plain": [
       " [1] \"Deer\" \"Deer\" \"Deer\" \"Deer\" \"Deer\" \"Deer\" \"Deer\" \"Deer\" \"Deer\" \"Deer\"\n",
       "[11] \"Deer\" \"Deer\" \"Deer\" \"Deer\" \"Deer\" \"Deer\" \"Deer\" \"Deer\" \"Deer\" \"Deer\"\n",
       "[21] \"Deer\" \"Deer\" \"Deer\" \"Deer\" \"Deer\" \"Deer\" \"Deer\" \"Deer\" \"Deer\" \"Deer\""
      ]
     },
     "metadata": {},
     "output_type": "display_data"
    }
   ],
   "source": [
    "species1 <- rep(\"Deer\", 30)\n",
    "species2 <- rep(\"Reindeer\", 30)\n",
    "\n",
    "species1"
   ]
  },
  {
   "cell_type": "markdown",
   "id": "7198b1e8-6298-4fb9-a319-f7f2f723d725",
   "metadata": {},
   "source": [
    "We can also manipulate arrays. This can be necessary for tidying data, and getting it into the right format. We can for example append one array to another. We just use the c() function for this."
   ]
  },
  {
   "cell_type": "code",
   "execution_count": 167,
   "id": "750d9402-c1cc-4866-a00b-3f0e75dfe402",
   "metadata": {},
   "outputs": [
    {
     "data": {
      "text/html": [
       "<style>\n",
       ".list-inline {list-style: none; margin:0; padding: 0}\n",
       ".list-inline>li {display: inline-block}\n",
       ".list-inline>li:not(:last-child)::after {content: \"\\00b7\"; padding: 0 .5ex}\n",
       "</style>\n",
       "<ol class=list-inline><li>51.3799974808658</li><li>67.4409998393907</li><li>53.4828385595329</li><li>55.8221969212136</li><li>55.1952392844334</li><li>71.2915234999053</li><li>47.696440881223</li><li>51.6416828105642</li><li>59.3511214795292</li><li>62.1104513761083</li><li>60.0007175342982</li><li>64.8719020078011</li><li>62.3418713447951</li><li>57.5249006097185</li><li>66.1494535983826</li><li>71.1894704786725</li><li>47.3854848075902</li><li>51.9315611497758</li><li>64.78016945255</li><li>61.8942276237008</li><li>54.5077084253515</li><li>51.2399010798368</li><li>50.1399842718802</li><li>67.0205462419404</li><li>57.7924076408628</li><li>65.0338387385623</li><li>47.4454151595178</li><li>53.5582706614029</li><li>55.5618356087972</li><li>45.7045876275335</li><li>84.1735429635372</li><li>71.5700220473277</li><li>89.2483474370092</li><li>75.7172777409941</li><li>85.0663796619474</li><li>81.6235243631814</li><li>85.4294076917976</li><li>74.079965849845</li><li>95.9728634867247</li><li>76.1981612563488</li><li>103.482974438408</li><li>72.1263884025205</li><li>86.5109821649311</li><li>94.6168760211023</li><li>83.9103236871198</li><li>91.2736574397015</li><li>73.408347407161</li><li>85.9825909717837</li><li>69.6853338662911</li><li>76.9954007124476</li><li>85.4732072841726</li><li>69.2226775080318</li><li>94.2198004717918</li><li>91.6046344310673</li><li>80.1745463560704</li><li>90.5409564588767</li><li>87.5046365504924</li><li>81.3975142689231</li><li>70.3126192087564</li><li>85.3625400627529</li></ol>\n"
      ],
      "text/latex": [
       "\\begin{enumerate*}\n",
       "\\item 51.3799974808658\n",
       "\\item 67.4409998393907\n",
       "\\item 53.4828385595329\n",
       "\\item 55.8221969212136\n",
       "\\item 55.1952392844334\n",
       "\\item 71.2915234999053\n",
       "\\item 47.696440881223\n",
       "\\item 51.6416828105642\n",
       "\\item 59.3511214795292\n",
       "\\item 62.1104513761083\n",
       "\\item 60.0007175342982\n",
       "\\item 64.8719020078011\n",
       "\\item 62.3418713447951\n",
       "\\item 57.5249006097185\n",
       "\\item 66.1494535983826\n",
       "\\item 71.1894704786725\n",
       "\\item 47.3854848075902\n",
       "\\item 51.9315611497758\n",
       "\\item 64.78016945255\n",
       "\\item 61.8942276237008\n",
       "\\item 54.5077084253515\n",
       "\\item 51.2399010798368\n",
       "\\item 50.1399842718802\n",
       "\\item 67.0205462419404\n",
       "\\item 57.7924076408628\n",
       "\\item 65.0338387385623\n",
       "\\item 47.4454151595178\n",
       "\\item 53.5582706614029\n",
       "\\item 55.5618356087972\n",
       "\\item 45.7045876275335\n",
       "\\item 84.1735429635372\n",
       "\\item 71.5700220473277\n",
       "\\item 89.2483474370092\n",
       "\\item 75.7172777409941\n",
       "\\item 85.0663796619474\n",
       "\\item 81.6235243631814\n",
       "\\item 85.4294076917976\n",
       "\\item 74.079965849845\n",
       "\\item 95.9728634867247\n",
       "\\item 76.1981612563488\n",
       "\\item 103.482974438408\n",
       "\\item 72.1263884025205\n",
       "\\item 86.5109821649311\n",
       "\\item 94.6168760211023\n",
       "\\item 83.9103236871198\n",
       "\\item 91.2736574397015\n",
       "\\item 73.408347407161\n",
       "\\item 85.9825909717837\n",
       "\\item 69.6853338662911\n",
       "\\item 76.9954007124476\n",
       "\\item 85.4732072841726\n",
       "\\item 69.2226775080318\n",
       "\\item 94.2198004717918\n",
       "\\item 91.6046344310673\n",
       "\\item 80.1745463560704\n",
       "\\item 90.5409564588767\n",
       "\\item 87.5046365504924\n",
       "\\item 81.3975142689231\n",
       "\\item 70.3126192087564\n",
       "\\item 85.3625400627529\n",
       "\\end{enumerate*}\n"
      ],
      "text/markdown": [
       "1. 51.3799974808658\n",
       "2. 67.4409998393907\n",
       "3. 53.4828385595329\n",
       "4. 55.8221969212136\n",
       "5. 55.1952392844334\n",
       "6. 71.2915234999053\n",
       "7. 47.696440881223\n",
       "8. 51.6416828105642\n",
       "9. 59.3511214795292\n",
       "10. 62.1104513761083\n",
       "11. 60.0007175342982\n",
       "12. 64.8719020078011\n",
       "13. 62.3418713447951\n",
       "14. 57.5249006097185\n",
       "15. 66.1494535983826\n",
       "16. 71.1894704786725\n",
       "17. 47.3854848075902\n",
       "18. 51.9315611497758\n",
       "19. 64.78016945255\n",
       "20. 61.8942276237008\n",
       "21. 54.5077084253515\n",
       "22. 51.2399010798368\n",
       "23. 50.1399842718802\n",
       "24. 67.0205462419404\n",
       "25. 57.7924076408628\n",
       "26. 65.0338387385623\n",
       "27. 47.4454151595178\n",
       "28. 53.5582706614029\n",
       "29. 55.5618356087972\n",
       "30. 45.7045876275335\n",
       "31. 84.1735429635372\n",
       "32. 71.5700220473277\n",
       "33. 89.2483474370092\n",
       "34. 75.7172777409941\n",
       "35. 85.0663796619474\n",
       "36. 81.6235243631814\n",
       "37. 85.4294076917976\n",
       "38. 74.079965849845\n",
       "39. 95.9728634867247\n",
       "40. 76.1981612563488\n",
       "41. 103.482974438408\n",
       "42. 72.1263884025205\n",
       "43. 86.5109821649311\n",
       "44. 94.6168760211023\n",
       "45. 83.9103236871198\n",
       "46. 91.2736574397015\n",
       "47. 73.408347407161\n",
       "48. 85.9825909717837\n",
       "49. 69.6853338662911\n",
       "50. 76.9954007124476\n",
       "51. 85.4732072841726\n",
       "52. 69.2226775080318\n",
       "53. 94.2198004717918\n",
       "54. 91.6046344310673\n",
       "55. 80.1745463560704\n",
       "56. 90.5409564588767\n",
       "57. 87.5046365504924\n",
       "58. 81.3975142689231\n",
       "59. 70.3126192087564\n",
       "60. 85.3625400627529\n",
       "\n",
       "\n"
      ],
      "text/plain": [
       " [1]  51.38000  67.44100  53.48284  55.82220  55.19524  71.29152  47.69644\n",
       " [8]  51.64168  59.35112  62.11045  60.00072  64.87190  62.34187  57.52490\n",
       "[15]  66.14945  71.18947  47.38548  51.93156  64.78017  61.89423  54.50771\n",
       "[22]  51.23990  50.13998  67.02055  57.79241  65.03384  47.44542  53.55827\n",
       "[29]  55.56184  45.70459  84.17354  71.57002  89.24835  75.71728  85.06638\n",
       "[36]  81.62352  85.42941  74.07997  95.97286  76.19816 103.48297  72.12639\n",
       "[43]  86.51098  94.61688  83.91032  91.27366  73.40835  85.98259  69.68533\n",
       "[50]  76.99540  85.47321  69.22268  94.21980  91.60463  80.17455  90.54096\n",
       "[57]  87.50464  81.39751  70.31262  85.36254"
      ]
     },
     "metadata": {},
     "output_type": "display_data"
    },
    {
     "data": {
      "text/html": [
       "<style>\n",
       ".list-inline {list-style: none; margin:0; padding: 0}\n",
       ".list-inline>li {display: inline-block}\n",
       ".list-inline>li:not(:last-child)::after {content: \"\\00b7\"; padding: 0 .5ex}\n",
       "</style>\n",
       "<ol class=list-inline><li>'Deer'</li><li>'Deer'</li><li>'Deer'</li><li>'Deer'</li><li>'Deer'</li><li>'Deer'</li><li>'Deer'</li><li>'Deer'</li><li>'Deer'</li><li>'Deer'</li><li>'Deer'</li><li>'Deer'</li><li>'Deer'</li><li>'Deer'</li><li>'Deer'</li><li>'Deer'</li><li>'Deer'</li><li>'Deer'</li><li>'Deer'</li><li>'Deer'</li><li>'Deer'</li><li>'Deer'</li><li>'Deer'</li><li>'Deer'</li><li>'Deer'</li><li>'Deer'</li><li>'Deer'</li><li>'Deer'</li><li>'Deer'</li><li>'Deer'</li><li>'Reindeer'</li><li>'Reindeer'</li><li>'Reindeer'</li><li>'Reindeer'</li><li>'Reindeer'</li><li>'Reindeer'</li><li>'Reindeer'</li><li>'Reindeer'</li><li>'Reindeer'</li><li>'Reindeer'</li><li>'Reindeer'</li><li>'Reindeer'</li><li>'Reindeer'</li><li>'Reindeer'</li><li>'Reindeer'</li><li>'Reindeer'</li><li>'Reindeer'</li><li>'Reindeer'</li><li>'Reindeer'</li><li>'Reindeer'</li><li>'Reindeer'</li><li>'Reindeer'</li><li>'Reindeer'</li><li>'Reindeer'</li><li>'Reindeer'</li><li>'Reindeer'</li><li>'Reindeer'</li><li>'Reindeer'</li><li>'Reindeer'</li><li>'Reindeer'</li></ol>\n"
      ],
      "text/latex": [
       "\\begin{enumerate*}\n",
       "\\item 'Deer'\n",
       "\\item 'Deer'\n",
       "\\item 'Deer'\n",
       "\\item 'Deer'\n",
       "\\item 'Deer'\n",
       "\\item 'Deer'\n",
       "\\item 'Deer'\n",
       "\\item 'Deer'\n",
       "\\item 'Deer'\n",
       "\\item 'Deer'\n",
       "\\item 'Deer'\n",
       "\\item 'Deer'\n",
       "\\item 'Deer'\n",
       "\\item 'Deer'\n",
       "\\item 'Deer'\n",
       "\\item 'Deer'\n",
       "\\item 'Deer'\n",
       "\\item 'Deer'\n",
       "\\item 'Deer'\n",
       "\\item 'Deer'\n",
       "\\item 'Deer'\n",
       "\\item 'Deer'\n",
       "\\item 'Deer'\n",
       "\\item 'Deer'\n",
       "\\item 'Deer'\n",
       "\\item 'Deer'\n",
       "\\item 'Deer'\n",
       "\\item 'Deer'\n",
       "\\item 'Deer'\n",
       "\\item 'Deer'\n",
       "\\item 'Reindeer'\n",
       "\\item 'Reindeer'\n",
       "\\item 'Reindeer'\n",
       "\\item 'Reindeer'\n",
       "\\item 'Reindeer'\n",
       "\\item 'Reindeer'\n",
       "\\item 'Reindeer'\n",
       "\\item 'Reindeer'\n",
       "\\item 'Reindeer'\n",
       "\\item 'Reindeer'\n",
       "\\item 'Reindeer'\n",
       "\\item 'Reindeer'\n",
       "\\item 'Reindeer'\n",
       "\\item 'Reindeer'\n",
       "\\item 'Reindeer'\n",
       "\\item 'Reindeer'\n",
       "\\item 'Reindeer'\n",
       "\\item 'Reindeer'\n",
       "\\item 'Reindeer'\n",
       "\\item 'Reindeer'\n",
       "\\item 'Reindeer'\n",
       "\\item 'Reindeer'\n",
       "\\item 'Reindeer'\n",
       "\\item 'Reindeer'\n",
       "\\item 'Reindeer'\n",
       "\\item 'Reindeer'\n",
       "\\item 'Reindeer'\n",
       "\\item 'Reindeer'\n",
       "\\item 'Reindeer'\n",
       "\\item 'Reindeer'\n",
       "\\end{enumerate*}\n"
      ],
      "text/markdown": [
       "1. 'Deer'\n",
       "2. 'Deer'\n",
       "3. 'Deer'\n",
       "4. 'Deer'\n",
       "5. 'Deer'\n",
       "6. 'Deer'\n",
       "7. 'Deer'\n",
       "8. 'Deer'\n",
       "9. 'Deer'\n",
       "10. 'Deer'\n",
       "11. 'Deer'\n",
       "12. 'Deer'\n",
       "13. 'Deer'\n",
       "14. 'Deer'\n",
       "15. 'Deer'\n",
       "16. 'Deer'\n",
       "17. 'Deer'\n",
       "18. 'Deer'\n",
       "19. 'Deer'\n",
       "20. 'Deer'\n",
       "21. 'Deer'\n",
       "22. 'Deer'\n",
       "23. 'Deer'\n",
       "24. 'Deer'\n",
       "25. 'Deer'\n",
       "26. 'Deer'\n",
       "27. 'Deer'\n",
       "28. 'Deer'\n",
       "29. 'Deer'\n",
       "30. 'Deer'\n",
       "31. 'Reindeer'\n",
       "32. 'Reindeer'\n",
       "33. 'Reindeer'\n",
       "34. 'Reindeer'\n",
       "35. 'Reindeer'\n",
       "36. 'Reindeer'\n",
       "37. 'Reindeer'\n",
       "38. 'Reindeer'\n",
       "39. 'Reindeer'\n",
       "40. 'Reindeer'\n",
       "41. 'Reindeer'\n",
       "42. 'Reindeer'\n",
       "43. 'Reindeer'\n",
       "44. 'Reindeer'\n",
       "45. 'Reindeer'\n",
       "46. 'Reindeer'\n",
       "47. 'Reindeer'\n",
       "48. 'Reindeer'\n",
       "49. 'Reindeer'\n",
       "50. 'Reindeer'\n",
       "51. 'Reindeer'\n",
       "52. 'Reindeer'\n",
       "53. 'Reindeer'\n",
       "54. 'Reindeer'\n",
       "55. 'Reindeer'\n",
       "56. 'Reindeer'\n",
       "57. 'Reindeer'\n",
       "58. 'Reindeer'\n",
       "59. 'Reindeer'\n",
       "60. 'Reindeer'\n",
       "\n",
       "\n"
      ],
      "text/plain": [
       " [1] \"Deer\"     \"Deer\"     \"Deer\"     \"Deer\"     \"Deer\"     \"Deer\"    \n",
       " [7] \"Deer\"     \"Deer\"     \"Deer\"     \"Deer\"     \"Deer\"     \"Deer\"    \n",
       "[13] \"Deer\"     \"Deer\"     \"Deer\"     \"Deer\"     \"Deer\"     \"Deer\"    \n",
       "[19] \"Deer\"     \"Deer\"     \"Deer\"     \"Deer\"     \"Deer\"     \"Deer\"    \n",
       "[25] \"Deer\"     \"Deer\"     \"Deer\"     \"Deer\"     \"Deer\"     \"Deer\"    \n",
       "[31] \"Reindeer\" \"Reindeer\" \"Reindeer\" \"Reindeer\" \"Reindeer\" \"Reindeer\"\n",
       "[37] \"Reindeer\" \"Reindeer\" \"Reindeer\" \"Reindeer\" \"Reindeer\" \"Reindeer\"\n",
       "[43] \"Reindeer\" \"Reindeer\" \"Reindeer\" \"Reindeer\" \"Reindeer\" \"Reindeer\"\n",
       "[49] \"Reindeer\" \"Reindeer\" \"Reindeer\" \"Reindeer\" \"Reindeer\" \"Reindeer\"\n",
       "[55] \"Reindeer\" \"Reindeer\" \"Reindeer\" \"Reindeer\" \"Reindeer\" \"Reindeer\""
      ]
     },
     "metadata": {},
     "output_type": "display_data"
    }
   ],
   "source": [
    "weight <- c(weight1, weight2) # sætter to lister sammen\n",
    "species <- c(species1, species2)\n",
    "weight\n",
    "species"
   ]
  },
  {
   "cell_type": "markdown",
   "id": "987c336d-d560-4c57-9d87-eee75a342173",
   "metadata": {},
   "source": [
    "This gives us our weights and species as nice tidy data arrays. We can also organise our data into spreadsheets like excel. These are called data frames in R."
   ]
  },
  {
   "cell_type": "code",
   "execution_count": 168,
   "id": "03134980-2042-4ef6-92fa-930639259b9c",
   "metadata": {
    "scrolled": true
   },
   "outputs": [],
   "source": [
    "deerStudy <- data.frame(weight, species)"
   ]
  },
  {
   "cell_type": "markdown",
   "id": "21b1fbbc-a349-4d17-8452-81cec475d781",
   "metadata": {},
   "source": [
    "You can always take a look at the dataframe by calling it."
   ]
  },
  {
   "cell_type": "code",
   "execution_count": 169,
   "id": "024e2e50-5a68-49f5-8ca3-bf6271649f81",
   "metadata": {
    "scrolled": true
   },
   "outputs": [
    {
     "data": {
      "text/html": [
       "<table class=\"dataframe\">\n",
       "<caption>A data.frame: 60 × 2</caption>\n",
       "<thead>\n",
       "\t<tr><th scope=col>weight</th><th scope=col>species</th></tr>\n",
       "\t<tr><th scope=col>&lt;dbl&gt;</th><th scope=col>&lt;chr&gt;</th></tr>\n",
       "</thead>\n",
       "<tbody>\n",
       "\t<tr><td> 51.38000</td><td>Deer    </td></tr>\n",
       "\t<tr><td> 67.44100</td><td>Deer    </td></tr>\n",
       "\t<tr><td> 53.48284</td><td>Deer    </td></tr>\n",
       "\t<tr><td> 55.82220</td><td>Deer    </td></tr>\n",
       "\t<tr><td> 55.19524</td><td>Deer    </td></tr>\n",
       "\t<tr><td> 71.29152</td><td>Deer    </td></tr>\n",
       "\t<tr><td> 47.69644</td><td>Deer    </td></tr>\n",
       "\t<tr><td> 51.64168</td><td>Deer    </td></tr>\n",
       "\t<tr><td> 59.35112</td><td>Deer    </td></tr>\n",
       "\t<tr><td> 62.11045</td><td>Deer    </td></tr>\n",
       "\t<tr><td> 60.00072</td><td>Deer    </td></tr>\n",
       "\t<tr><td> 64.87190</td><td>Deer    </td></tr>\n",
       "\t<tr><td> 62.34187</td><td>Deer    </td></tr>\n",
       "\t<tr><td> 57.52490</td><td>Deer    </td></tr>\n",
       "\t<tr><td> 66.14945</td><td>Deer    </td></tr>\n",
       "\t<tr><td> 71.18947</td><td>Deer    </td></tr>\n",
       "\t<tr><td> 47.38548</td><td>Deer    </td></tr>\n",
       "\t<tr><td> 51.93156</td><td>Deer    </td></tr>\n",
       "\t<tr><td> 64.78017</td><td>Deer    </td></tr>\n",
       "\t<tr><td> 61.89423</td><td>Deer    </td></tr>\n",
       "\t<tr><td> 54.50771</td><td>Deer    </td></tr>\n",
       "\t<tr><td> 51.23990</td><td>Deer    </td></tr>\n",
       "\t<tr><td> 50.13998</td><td>Deer    </td></tr>\n",
       "\t<tr><td> 67.02055</td><td>Deer    </td></tr>\n",
       "\t<tr><td> 57.79241</td><td>Deer    </td></tr>\n",
       "\t<tr><td> 65.03384</td><td>Deer    </td></tr>\n",
       "\t<tr><td> 47.44542</td><td>Deer    </td></tr>\n",
       "\t<tr><td> 53.55827</td><td>Deer    </td></tr>\n",
       "\t<tr><td> 55.56184</td><td>Deer    </td></tr>\n",
       "\t<tr><td> 45.70459</td><td>Deer    </td></tr>\n",
       "\t<tr><td> 84.17354</td><td>Reindeer</td></tr>\n",
       "\t<tr><td> 71.57002</td><td>Reindeer</td></tr>\n",
       "\t<tr><td> 89.24835</td><td>Reindeer</td></tr>\n",
       "\t<tr><td> 75.71728</td><td>Reindeer</td></tr>\n",
       "\t<tr><td> 85.06638</td><td>Reindeer</td></tr>\n",
       "\t<tr><td> 81.62352</td><td>Reindeer</td></tr>\n",
       "\t<tr><td> 85.42941</td><td>Reindeer</td></tr>\n",
       "\t<tr><td> 74.07997</td><td>Reindeer</td></tr>\n",
       "\t<tr><td> 95.97286</td><td>Reindeer</td></tr>\n",
       "\t<tr><td> 76.19816</td><td>Reindeer</td></tr>\n",
       "\t<tr><td>103.48297</td><td>Reindeer</td></tr>\n",
       "\t<tr><td> 72.12639</td><td>Reindeer</td></tr>\n",
       "\t<tr><td> 86.51098</td><td>Reindeer</td></tr>\n",
       "\t<tr><td> 94.61688</td><td>Reindeer</td></tr>\n",
       "\t<tr><td> 83.91032</td><td>Reindeer</td></tr>\n",
       "\t<tr><td> 91.27366</td><td>Reindeer</td></tr>\n",
       "\t<tr><td> 73.40835</td><td>Reindeer</td></tr>\n",
       "\t<tr><td> 85.98259</td><td>Reindeer</td></tr>\n",
       "\t<tr><td> 69.68533</td><td>Reindeer</td></tr>\n",
       "\t<tr><td> 76.99540</td><td>Reindeer</td></tr>\n",
       "\t<tr><td> 85.47321</td><td>Reindeer</td></tr>\n",
       "\t<tr><td> 69.22268</td><td>Reindeer</td></tr>\n",
       "\t<tr><td> 94.21980</td><td>Reindeer</td></tr>\n",
       "\t<tr><td> 91.60463</td><td>Reindeer</td></tr>\n",
       "\t<tr><td> 80.17455</td><td>Reindeer</td></tr>\n",
       "\t<tr><td> 90.54096</td><td>Reindeer</td></tr>\n",
       "\t<tr><td> 87.50464</td><td>Reindeer</td></tr>\n",
       "\t<tr><td> 81.39751</td><td>Reindeer</td></tr>\n",
       "\t<tr><td> 70.31262</td><td>Reindeer</td></tr>\n",
       "\t<tr><td> 85.36254</td><td>Reindeer</td></tr>\n",
       "</tbody>\n",
       "</table>\n"
      ],
      "text/latex": [
       "A data.frame: 60 × 2\n",
       "\\begin{tabular}{ll}\n",
       " weight & species\\\\\n",
       " <dbl> & <chr>\\\\\n",
       "\\hline\n",
       "\t  51.38000 & Deer    \\\\\n",
       "\t  67.44100 & Deer    \\\\\n",
       "\t  53.48284 & Deer    \\\\\n",
       "\t  55.82220 & Deer    \\\\\n",
       "\t  55.19524 & Deer    \\\\\n",
       "\t  71.29152 & Deer    \\\\\n",
       "\t  47.69644 & Deer    \\\\\n",
       "\t  51.64168 & Deer    \\\\\n",
       "\t  59.35112 & Deer    \\\\\n",
       "\t  62.11045 & Deer    \\\\\n",
       "\t  60.00072 & Deer    \\\\\n",
       "\t  64.87190 & Deer    \\\\\n",
       "\t  62.34187 & Deer    \\\\\n",
       "\t  57.52490 & Deer    \\\\\n",
       "\t  66.14945 & Deer    \\\\\n",
       "\t  71.18947 & Deer    \\\\\n",
       "\t  47.38548 & Deer    \\\\\n",
       "\t  51.93156 & Deer    \\\\\n",
       "\t  64.78017 & Deer    \\\\\n",
       "\t  61.89423 & Deer    \\\\\n",
       "\t  54.50771 & Deer    \\\\\n",
       "\t  51.23990 & Deer    \\\\\n",
       "\t  50.13998 & Deer    \\\\\n",
       "\t  67.02055 & Deer    \\\\\n",
       "\t  57.79241 & Deer    \\\\\n",
       "\t  65.03384 & Deer    \\\\\n",
       "\t  47.44542 & Deer    \\\\\n",
       "\t  53.55827 & Deer    \\\\\n",
       "\t  55.56184 & Deer    \\\\\n",
       "\t  45.70459 & Deer    \\\\\n",
       "\t  84.17354 & Reindeer\\\\\n",
       "\t  71.57002 & Reindeer\\\\\n",
       "\t  89.24835 & Reindeer\\\\\n",
       "\t  75.71728 & Reindeer\\\\\n",
       "\t  85.06638 & Reindeer\\\\\n",
       "\t  81.62352 & Reindeer\\\\\n",
       "\t  85.42941 & Reindeer\\\\\n",
       "\t  74.07997 & Reindeer\\\\\n",
       "\t  95.97286 & Reindeer\\\\\n",
       "\t  76.19816 & Reindeer\\\\\n",
       "\t 103.48297 & Reindeer\\\\\n",
       "\t  72.12639 & Reindeer\\\\\n",
       "\t  86.51098 & Reindeer\\\\\n",
       "\t  94.61688 & Reindeer\\\\\n",
       "\t  83.91032 & Reindeer\\\\\n",
       "\t  91.27366 & Reindeer\\\\\n",
       "\t  73.40835 & Reindeer\\\\\n",
       "\t  85.98259 & Reindeer\\\\\n",
       "\t  69.68533 & Reindeer\\\\\n",
       "\t  76.99540 & Reindeer\\\\\n",
       "\t  85.47321 & Reindeer\\\\\n",
       "\t  69.22268 & Reindeer\\\\\n",
       "\t  94.21980 & Reindeer\\\\\n",
       "\t  91.60463 & Reindeer\\\\\n",
       "\t  80.17455 & Reindeer\\\\\n",
       "\t  90.54096 & Reindeer\\\\\n",
       "\t  87.50464 & Reindeer\\\\\n",
       "\t  81.39751 & Reindeer\\\\\n",
       "\t  70.31262 & Reindeer\\\\\n",
       "\t  85.36254 & Reindeer\\\\\n",
       "\\end{tabular}\n"
      ],
      "text/markdown": [
       "\n",
       "A data.frame: 60 × 2\n",
       "\n",
       "| weight &lt;dbl&gt; | species &lt;chr&gt; |\n",
       "|---|---|\n",
       "|  51.38000 | Deer     |\n",
       "|  67.44100 | Deer     |\n",
       "|  53.48284 | Deer     |\n",
       "|  55.82220 | Deer     |\n",
       "|  55.19524 | Deer     |\n",
       "|  71.29152 | Deer     |\n",
       "|  47.69644 | Deer     |\n",
       "|  51.64168 | Deer     |\n",
       "|  59.35112 | Deer     |\n",
       "|  62.11045 | Deer     |\n",
       "|  60.00072 | Deer     |\n",
       "|  64.87190 | Deer     |\n",
       "|  62.34187 | Deer     |\n",
       "|  57.52490 | Deer     |\n",
       "|  66.14945 | Deer     |\n",
       "|  71.18947 | Deer     |\n",
       "|  47.38548 | Deer     |\n",
       "|  51.93156 | Deer     |\n",
       "|  64.78017 | Deer     |\n",
       "|  61.89423 | Deer     |\n",
       "|  54.50771 | Deer     |\n",
       "|  51.23990 | Deer     |\n",
       "|  50.13998 | Deer     |\n",
       "|  67.02055 | Deer     |\n",
       "|  57.79241 | Deer     |\n",
       "|  65.03384 | Deer     |\n",
       "|  47.44542 | Deer     |\n",
       "|  53.55827 | Deer     |\n",
       "|  55.56184 | Deer     |\n",
       "|  45.70459 | Deer     |\n",
       "|  84.17354 | Reindeer |\n",
       "|  71.57002 | Reindeer |\n",
       "|  89.24835 | Reindeer |\n",
       "|  75.71728 | Reindeer |\n",
       "|  85.06638 | Reindeer |\n",
       "|  81.62352 | Reindeer |\n",
       "|  85.42941 | Reindeer |\n",
       "|  74.07997 | Reindeer |\n",
       "|  95.97286 | Reindeer |\n",
       "|  76.19816 | Reindeer |\n",
       "| 103.48297 | Reindeer |\n",
       "|  72.12639 | Reindeer |\n",
       "|  86.51098 | Reindeer |\n",
       "|  94.61688 | Reindeer |\n",
       "|  83.91032 | Reindeer |\n",
       "|  91.27366 | Reindeer |\n",
       "|  73.40835 | Reindeer |\n",
       "|  85.98259 | Reindeer |\n",
       "|  69.68533 | Reindeer |\n",
       "|  76.99540 | Reindeer |\n",
       "|  85.47321 | Reindeer |\n",
       "|  69.22268 | Reindeer |\n",
       "|  94.21980 | Reindeer |\n",
       "|  91.60463 | Reindeer |\n",
       "|  80.17455 | Reindeer |\n",
       "|  90.54096 | Reindeer |\n",
       "|  87.50464 | Reindeer |\n",
       "|  81.39751 | Reindeer |\n",
       "|  70.31262 | Reindeer |\n",
       "|  85.36254 | Reindeer |\n",
       "\n"
      ],
      "text/plain": [
       "   weight    species \n",
       "1   51.38000 Deer    \n",
       "2   67.44100 Deer    \n",
       "3   53.48284 Deer    \n",
       "4   55.82220 Deer    \n",
       "5   55.19524 Deer    \n",
       "6   71.29152 Deer    \n",
       "7   47.69644 Deer    \n",
       "8   51.64168 Deer    \n",
       "9   59.35112 Deer    \n",
       "10  62.11045 Deer    \n",
       "11  60.00072 Deer    \n",
       "12  64.87190 Deer    \n",
       "13  62.34187 Deer    \n",
       "14  57.52490 Deer    \n",
       "15  66.14945 Deer    \n",
       "16  71.18947 Deer    \n",
       "17  47.38548 Deer    \n",
       "18  51.93156 Deer    \n",
       "19  64.78017 Deer    \n",
       "20  61.89423 Deer    \n",
       "21  54.50771 Deer    \n",
       "22  51.23990 Deer    \n",
       "23  50.13998 Deer    \n",
       "24  67.02055 Deer    \n",
       "25  57.79241 Deer    \n",
       "26  65.03384 Deer    \n",
       "27  47.44542 Deer    \n",
       "28  53.55827 Deer    \n",
       "29  55.56184 Deer    \n",
       "30  45.70459 Deer    \n",
       "31  84.17354 Reindeer\n",
       "32  71.57002 Reindeer\n",
       "33  89.24835 Reindeer\n",
       "34  75.71728 Reindeer\n",
       "35  85.06638 Reindeer\n",
       "36  81.62352 Reindeer\n",
       "37  85.42941 Reindeer\n",
       "38  74.07997 Reindeer\n",
       "39  95.97286 Reindeer\n",
       "40  76.19816 Reindeer\n",
       "41 103.48297 Reindeer\n",
       "42  72.12639 Reindeer\n",
       "43  86.51098 Reindeer\n",
       "44  94.61688 Reindeer\n",
       "45  83.91032 Reindeer\n",
       "46  91.27366 Reindeer\n",
       "47  73.40835 Reindeer\n",
       "48  85.98259 Reindeer\n",
       "49  69.68533 Reindeer\n",
       "50  76.99540 Reindeer\n",
       "51  85.47321 Reindeer\n",
       "52  69.22268 Reindeer\n",
       "53  94.21980 Reindeer\n",
       "54  91.60463 Reindeer\n",
       "55  80.17455 Reindeer\n",
       "56  90.54096 Reindeer\n",
       "57  87.50464 Reindeer\n",
       "58  81.39751 Reindeer\n",
       "59  70.31262 Reindeer\n",
       "60  85.36254 Reindeer"
      ]
     },
     "metadata": {},
     "output_type": "display_data"
    }
   ],
   "source": [
    "deerStudy"
   ]
  },
  {
   "cell_type": "markdown",
   "id": "9311c1ee-e60f-46b7-a56a-1e15095e59bc",
   "metadata": {},
   "source": [
    "We can look at just the top of this spreadsheet."
   ]
  },
  {
   "cell_type": "code",
   "execution_count": 170,
   "id": "10d529da-ef20-41b9-9ec7-908d2f6a4b69",
   "metadata": {},
   "outputs": [
    {
     "data": {
      "text/html": [
       "<table class=\"dataframe\">\n",
       "<caption>A data.frame: 6 × 2</caption>\n",
       "<thead>\n",
       "\t<tr><th></th><th scope=col>weight</th><th scope=col>species</th></tr>\n",
       "\t<tr><th></th><th scope=col>&lt;dbl&gt;</th><th scope=col>&lt;chr&gt;</th></tr>\n",
       "</thead>\n",
       "<tbody>\n",
       "\t<tr><th scope=row>1</th><td>51.38000</td><td>Deer</td></tr>\n",
       "\t<tr><th scope=row>2</th><td>67.44100</td><td>Deer</td></tr>\n",
       "\t<tr><th scope=row>3</th><td>53.48284</td><td>Deer</td></tr>\n",
       "\t<tr><th scope=row>4</th><td>55.82220</td><td>Deer</td></tr>\n",
       "\t<tr><th scope=row>5</th><td>55.19524</td><td>Deer</td></tr>\n",
       "\t<tr><th scope=row>6</th><td>71.29152</td><td>Deer</td></tr>\n",
       "</tbody>\n",
       "</table>\n"
      ],
      "text/latex": [
       "A data.frame: 6 × 2\n",
       "\\begin{tabular}{r|ll}\n",
       "  & weight & species\\\\\n",
       "  & <dbl> & <chr>\\\\\n",
       "\\hline\n",
       "\t1 & 51.38000 & Deer\\\\\n",
       "\t2 & 67.44100 & Deer\\\\\n",
       "\t3 & 53.48284 & Deer\\\\\n",
       "\t4 & 55.82220 & Deer\\\\\n",
       "\t5 & 55.19524 & Deer\\\\\n",
       "\t6 & 71.29152 & Deer\\\\\n",
       "\\end{tabular}\n"
      ],
      "text/markdown": [
       "\n",
       "A data.frame: 6 × 2\n",
       "\n",
       "| <!--/--> | weight &lt;dbl&gt; | species &lt;chr&gt; |\n",
       "|---|---|---|\n",
       "| 1 | 51.38000 | Deer |\n",
       "| 2 | 67.44100 | Deer |\n",
       "| 3 | 53.48284 | Deer |\n",
       "| 4 | 55.82220 | Deer |\n",
       "| 5 | 55.19524 | Deer |\n",
       "| 6 | 71.29152 | Deer |\n",
       "\n"
      ],
      "text/plain": [
       "  weight   species\n",
       "1 51.38000 Deer   \n",
       "2 67.44100 Deer   \n",
       "3 53.48284 Deer   \n",
       "4 55.82220 Deer   \n",
       "5 55.19524 Deer   \n",
       "6 71.29152 Deer   "
      ]
     },
     "metadata": {},
     "output_type": "display_data"
    }
   ],
   "source": [
    "head(deerStudy)"
   ]
  },
  {
   "cell_type": "markdown",
   "id": "21dea1b3-09c3-40f1-91d0-896897eebb3b",
   "metadata": {},
   "source": [
    "We can also pick out specific variables to do stuff to. We use the '$' for this."
   ]
  },
  {
   "cell_type": "code",
   "execution_count": 171,
   "id": "eb8f3359-f073-4ba3-9ac2-0fa26f38e133",
   "metadata": {},
   "outputs": [
    {
     "data": {
      "text/html": [
       "<style>\n",
       ".list-inline {list-style: none; margin:0; padding: 0}\n",
       ".list-inline>li {display: inline-block}\n",
       ".list-inline>li:not(:last-child)::after {content: \"\\00b7\"; padding: 0 .5ex}\n",
       "</style>\n",
       "<ol class=list-inline><li>'Deer'</li><li>'Deer'</li><li>'Deer'</li><li>'Deer'</li><li>'Deer'</li><li>'Deer'</li><li>'Deer'</li><li>'Deer'</li><li>'Deer'</li><li>'Deer'</li><li>'Deer'</li><li>'Deer'</li><li>'Deer'</li><li>'Deer'</li><li>'Deer'</li><li>'Deer'</li><li>'Deer'</li><li>'Deer'</li><li>'Deer'</li><li>'Deer'</li><li>'Deer'</li><li>'Deer'</li><li>'Deer'</li><li>'Deer'</li><li>'Deer'</li><li>'Deer'</li><li>'Deer'</li><li>'Deer'</li><li>'Deer'</li><li>'Deer'</li><li>'Reindeer'</li><li>'Reindeer'</li><li>'Reindeer'</li><li>'Reindeer'</li><li>'Reindeer'</li><li>'Reindeer'</li><li>'Reindeer'</li><li>'Reindeer'</li><li>'Reindeer'</li><li>'Reindeer'</li><li>'Reindeer'</li><li>'Reindeer'</li><li>'Reindeer'</li><li>'Reindeer'</li><li>'Reindeer'</li><li>'Reindeer'</li><li>'Reindeer'</li><li>'Reindeer'</li><li>'Reindeer'</li><li>'Reindeer'</li><li>'Reindeer'</li><li>'Reindeer'</li><li>'Reindeer'</li><li>'Reindeer'</li><li>'Reindeer'</li><li>'Reindeer'</li><li>'Reindeer'</li><li>'Reindeer'</li><li>'Reindeer'</li><li>'Reindeer'</li></ol>\n"
      ],
      "text/latex": [
       "\\begin{enumerate*}\n",
       "\\item 'Deer'\n",
       "\\item 'Deer'\n",
       "\\item 'Deer'\n",
       "\\item 'Deer'\n",
       "\\item 'Deer'\n",
       "\\item 'Deer'\n",
       "\\item 'Deer'\n",
       "\\item 'Deer'\n",
       "\\item 'Deer'\n",
       "\\item 'Deer'\n",
       "\\item 'Deer'\n",
       "\\item 'Deer'\n",
       "\\item 'Deer'\n",
       "\\item 'Deer'\n",
       "\\item 'Deer'\n",
       "\\item 'Deer'\n",
       "\\item 'Deer'\n",
       "\\item 'Deer'\n",
       "\\item 'Deer'\n",
       "\\item 'Deer'\n",
       "\\item 'Deer'\n",
       "\\item 'Deer'\n",
       "\\item 'Deer'\n",
       "\\item 'Deer'\n",
       "\\item 'Deer'\n",
       "\\item 'Deer'\n",
       "\\item 'Deer'\n",
       "\\item 'Deer'\n",
       "\\item 'Deer'\n",
       "\\item 'Deer'\n",
       "\\item 'Reindeer'\n",
       "\\item 'Reindeer'\n",
       "\\item 'Reindeer'\n",
       "\\item 'Reindeer'\n",
       "\\item 'Reindeer'\n",
       "\\item 'Reindeer'\n",
       "\\item 'Reindeer'\n",
       "\\item 'Reindeer'\n",
       "\\item 'Reindeer'\n",
       "\\item 'Reindeer'\n",
       "\\item 'Reindeer'\n",
       "\\item 'Reindeer'\n",
       "\\item 'Reindeer'\n",
       "\\item 'Reindeer'\n",
       "\\item 'Reindeer'\n",
       "\\item 'Reindeer'\n",
       "\\item 'Reindeer'\n",
       "\\item 'Reindeer'\n",
       "\\item 'Reindeer'\n",
       "\\item 'Reindeer'\n",
       "\\item 'Reindeer'\n",
       "\\item 'Reindeer'\n",
       "\\item 'Reindeer'\n",
       "\\item 'Reindeer'\n",
       "\\item 'Reindeer'\n",
       "\\item 'Reindeer'\n",
       "\\item 'Reindeer'\n",
       "\\item 'Reindeer'\n",
       "\\item 'Reindeer'\n",
       "\\item 'Reindeer'\n",
       "\\end{enumerate*}\n"
      ],
      "text/markdown": [
       "1. 'Deer'\n",
       "2. 'Deer'\n",
       "3. 'Deer'\n",
       "4. 'Deer'\n",
       "5. 'Deer'\n",
       "6. 'Deer'\n",
       "7. 'Deer'\n",
       "8. 'Deer'\n",
       "9. 'Deer'\n",
       "10. 'Deer'\n",
       "11. 'Deer'\n",
       "12. 'Deer'\n",
       "13. 'Deer'\n",
       "14. 'Deer'\n",
       "15. 'Deer'\n",
       "16. 'Deer'\n",
       "17. 'Deer'\n",
       "18. 'Deer'\n",
       "19. 'Deer'\n",
       "20. 'Deer'\n",
       "21. 'Deer'\n",
       "22. 'Deer'\n",
       "23. 'Deer'\n",
       "24. 'Deer'\n",
       "25. 'Deer'\n",
       "26. 'Deer'\n",
       "27. 'Deer'\n",
       "28. 'Deer'\n",
       "29. 'Deer'\n",
       "30. 'Deer'\n",
       "31. 'Reindeer'\n",
       "32. 'Reindeer'\n",
       "33. 'Reindeer'\n",
       "34. 'Reindeer'\n",
       "35. 'Reindeer'\n",
       "36. 'Reindeer'\n",
       "37. 'Reindeer'\n",
       "38. 'Reindeer'\n",
       "39. 'Reindeer'\n",
       "40. 'Reindeer'\n",
       "41. 'Reindeer'\n",
       "42. 'Reindeer'\n",
       "43. 'Reindeer'\n",
       "44. 'Reindeer'\n",
       "45. 'Reindeer'\n",
       "46. 'Reindeer'\n",
       "47. 'Reindeer'\n",
       "48. 'Reindeer'\n",
       "49. 'Reindeer'\n",
       "50. 'Reindeer'\n",
       "51. 'Reindeer'\n",
       "52. 'Reindeer'\n",
       "53. 'Reindeer'\n",
       "54. 'Reindeer'\n",
       "55. 'Reindeer'\n",
       "56. 'Reindeer'\n",
       "57. 'Reindeer'\n",
       "58. 'Reindeer'\n",
       "59. 'Reindeer'\n",
       "60. 'Reindeer'\n",
       "\n",
       "\n"
      ],
      "text/plain": [
       " [1] \"Deer\"     \"Deer\"     \"Deer\"     \"Deer\"     \"Deer\"     \"Deer\"    \n",
       " [7] \"Deer\"     \"Deer\"     \"Deer\"     \"Deer\"     \"Deer\"     \"Deer\"    \n",
       "[13] \"Deer\"     \"Deer\"     \"Deer\"     \"Deer\"     \"Deer\"     \"Deer\"    \n",
       "[19] \"Deer\"     \"Deer\"     \"Deer\"     \"Deer\"     \"Deer\"     \"Deer\"    \n",
       "[25] \"Deer\"     \"Deer\"     \"Deer\"     \"Deer\"     \"Deer\"     \"Deer\"    \n",
       "[31] \"Reindeer\" \"Reindeer\" \"Reindeer\" \"Reindeer\" \"Reindeer\" \"Reindeer\"\n",
       "[37] \"Reindeer\" \"Reindeer\" \"Reindeer\" \"Reindeer\" \"Reindeer\" \"Reindeer\"\n",
       "[43] \"Reindeer\" \"Reindeer\" \"Reindeer\" \"Reindeer\" \"Reindeer\" \"Reindeer\"\n",
       "[49] \"Reindeer\" \"Reindeer\" \"Reindeer\" \"Reindeer\" \"Reindeer\" \"Reindeer\"\n",
       "[55] \"Reindeer\" \"Reindeer\" \"Reindeer\" \"Reindeer\" \"Reindeer\" \"Reindeer\""
      ]
     },
     "metadata": {},
     "output_type": "display_data"
    }
   ],
   "source": [
    "deerStudy$species"
   ]
  },
  {
   "cell_type": "markdown",
   "id": "fdc5873a-36a7-4862-9640-213902b19a78",
   "metadata": {},
   "source": [
    "We can also save our spreadsheet."
   ]
  },
  {
   "cell_type": "code",
   "execution_count": 172,
   "id": "7f598794-26c4-4f25-a274-049e1b5e5838",
   "metadata": {},
   "outputs": [],
   "source": [
    "save(deerStudy, file = \"deerStudy.RData\")"
   ]
  },
  {
   "cell_type": "markdown",
   "id": "372cb28c-dcc1-470f-af05-d0cc651d1b5e",
   "metadata": {},
   "source": [
    "# Part 3 - Basic plotting"
   ]
  },
  {
   "cell_type": "markdown",
   "id": "183f8f30-0e1f-45de-9999-f9b31e06b85a",
   "metadata": {},
   "source": [
    "Plotting is very important. It allows you to see relationships between variables. There are different kinds of plots that are useful for different kinds of relationships."
   ]
  },
  {
   "cell_type": "markdown",
   "id": "a17a5ec9-1a42-4ba2-bc41-15632b56468f",
   "metadata": {},
   "source": [
    "If you want to plot something very quickly, base R (when you don't download any extra packages) has some great options."
   ]
  },
  {
   "cell_type": "markdown",
   "id": "4e3d1012-0552-4e5a-9ad6-668825b31d60",
   "metadata": {},
   "source": [
    "To visualize the relationship between two continuous variables, you can use a scatterplot..."
   ]
  },
  {
   "cell_type": "code",
   "execution_count": 173,
   "id": "6d67b8a1-6a17-4e49-854e-a063fcf50a6f",
   "metadata": {},
   "outputs": [
    {
     "data": {
      "image/png": "[encoded data removed]",
      "text/plain": [
       "plot without title"
      ]
     },
     "metadata": {
      "image/png": {
       "height": 420,
       "width": 420
      }
     },
     "output_type": "display_data"
    }
   ],
   "source": [
    "plot(listOfNumbers, secondListOfNumbers)"
   ]
  },
  {
   "cell_type": "code",
   "execution_count": 174,
   "id": "40ad0a16-c32f-4e96-b971-40cc6fb17f16",
   "metadata": {},
   "outputs": [
    {
     "data": {
      "image/png": "[encoded data removed]",
      "text/plain": [
       "plot without title"
      ]
     },
     "metadata": {
      "image/png": {
       "height": 420,
       "width": 420
      }
     },
     "output_type": "display_data"
    }
   ],
   "source": [
    "plot(listOfNumbers ~ secondListOfNumbers)"
   ]
  },
  {
   "cell_type": "markdown",
   "id": "2f4bd725-a55b-4052-bcbe-09e8c8e6b49b",
   "metadata": {},
   "source": [
    "... while boxplots tell you the relationship between categorical and continuous variables."
   ]
  },
  {
   "cell_type": "code",
   "execution_count": 175,
   "id": "544e77c0-1f05-4b15-9a01-97b2bfb32bd9",
   "metadata": {
    "scrolled": true
   },
   "outputs": [
    {
     "data": {
      "image/png": "[encoded data removed]",
      "text/plain": [
       "plot without title"
      ]
     },
     "metadata": {
      "image/png": {
       "height": 420,
       "width": 420
      }
     },
     "output_type": "display_data"
    }
   ],
   "source": [
    "boxplot(weight~species) # the weight is a function of the species"
   ]
  },
  {
   "cell_type": "markdown",
   "id": "8a26b67a-2d29-4b1e-a4f7-a09c4fc99c95",
   "metadata": {},
   "source": [
    "The tilde \"~\" is important in R. It can be read to mean \"as a function of\", or \"distributed as\". You will see it again, and you will get used to it. This little syntactic difference is important, because it can allow us to make the same plot using different kinds of data structures. "
   ]
  },
  {
   "cell_type": "markdown",
   "id": "b69a4905-15de-4f77-8805-a12905fb2b9a",
   "metadata": {},
   "source": [
    "These plots are a bit ugly. Even base R can make beautiful plots, you can look at options to fancy plots up using the ?plot command."
   ]
  },
  {
   "cell_type": "markdown",
   "id": "45533359-55d9-494b-967b-d555b3ad2206",
   "metadata": {},
   "source": [
    "A lot of the R community uses a package called ggplot2 to plot. It is very well-documented online and has a lot of options for customization. Packages are like modules in Python. We'll talk a bit more about packages next class. For now, let's just install and load:"
   ]
  },
  {
   "cell_type": "code",
   "execution_count": 176,
   "id": "aabd77ff-acd8-409a-980d-67b97ef71e7d",
   "metadata": {
    "collapsed": true,
    "jupyter": {
     "outputs_hidden": true
    }
   },
   "outputs": [
    {
     "name": "stderr",
     "output_type": "stream",
     "text": [
      "Installing package into ‘/usr/local/spark-3.5.2-bin-hadoop3/R/lib’\n",
      "(as ‘lib’ is unspecified)\n",
      "\n",
      "Installing package into ‘/usr/local/spark-3.5.2-bin-hadoop3/R/lib’\n",
      "(as ‘lib’ is unspecified)\n",
      "\n"
     ]
    }
   ],
   "source": [
    "install.packages(\"dplyr\")\n",
    "install.packages(\"ggplot2\")"
   ]
  },
  {
   "cell_type": "code",
   "execution_count": 177,
   "id": "f75d56cf-57b3-4789-b072-11a88be731f0",
   "metadata": {
    "scrolled": true
   },
   "outputs": [],
   "source": [
    "library(dplyr)\n",
    "library(ggplot2)"
   ]
  },
  {
   "cell_type": "code",
   "execution_count": 178,
   "id": "a3a9cf28-9973-42ef-bfd7-a0c82dacb1e3",
   "metadata": {},
   "outputs": [
    {
     "data": {
      "image/png": "[encoded data removed]",
      "text/plain": [
       "plot without title"
      ]
     },
     "metadata": {
      "image/png": {
       "height": 420,
       "width": 420
      }
     },
     "output_type": "display_data"
    }
   ],
   "source": [
    "# aes = aesthetics\n",
    "\n",
    "ggplot(deerStudy, \n",
    "       aes(x = species,\n",
    "           y = weight)) +\n",
    "    geom_boxplot()"
   ]
  },
  {
   "cell_type": "markdown",
   "id": "8d84d33e-8796-44de-96b1-4b752be7fc62",
   "metadata": {},
   "source": [
    "ggplot2 is a very modular way of plotting. You give commands in a sequential order, and the output of one command is passed to the command with a '+' operator."
   ]
  },
  {
   "cell_type": "markdown",
   "id": "910c3e21-f8d0-43aa-98aa-61c7882eef3c",
   "metadata": {},
   "source": [
    "The first block (before the + sign) specifies the data we want to use and how we want to use it. Using + signs, we can add extra options, for example the style of plot. You can really go crazy with the customizations!"
   ]
  },
  {
   "cell_type": "code",
   "execution_count": 179,
   "id": "316dd5c9-f806-4a97-b37e-7445f65b6d30",
   "metadata": {},
   "outputs": [
    {
     "data": {
      "image/png": "[encoded data removed]",
      "text/plain": [
       "plot without title"
      ]
     },
     "metadata": {
      "image/png": {
       "height": 420,
       "width": 420
      }
     },
     "output_type": "display_data"
    }
   ],
   "source": [
    "ggplot(deerStudy,\n",
    "       aes(x = species, \n",
    "           y = weight,\n",
    "          fill = species))+ # første trin er at specificere data: herfra og op - nedenfor er visuelt\n",
    "\n",
    "# fill fylder dem ud - ved ik helt hvorfor hun skriver species\n",
    "    geom_boxplot() +\n",
    "    scale_fill_manual(values = c(\"gold\", \"darkgreen\"))+  # vælger farver\n",
    "    labs(title = \"Deer Weight\", # labs tilføjer nye titler, 1 til figure, 1 til hver akse\n",
    "         x = \"Species\", \n",
    "         y = \"Weight (kg)\") +\n",
    "    theme_minimal() # for at fjerne 'baggrunden'"
   ]
  },
  {
   "cell_type": "markdown",
   "id": "9295e5bb-1c71-4831-88f5-75d2166b2a01",
   "metadata": {},
   "source": [
    "There are several excellent resources for learning about ggplot2. Try to play around with them. For example: https://rstudio.github.io/cheatsheets/html/data-visualization.html"
   ]
  },
  {
   "cell_type": "markdown",
   "id": "3da06e77-614e-42da-b9cf-157a7fea72e3",
   "metadata": {},
   "source": [
    "You have encountered some basic plotting functions in R. You have learned the tilde operator. You have learned how to search the help documentation."
   ]
  },
  {
   "cell_type": "markdown",
   "id": "66fb8cb2-317b-4a2a-948d-8e449fc2651b",
   "metadata": {},
   "source": [
    "# Part 4 - Indexing and basic statistics"
   ]
  },
  {
   "cell_type": "markdown",
   "id": "50f48782-ca8d-435f-af20-6f01228c3a50",
   "metadata": {},
   "source": [
    "R is a statistical language, and so it has functions for running statistical operations and models."
   ]
  },
  {
   "cell_type": "markdown",
   "id": "3e477b15-ea0e-4643-8566-17f0a08d0dfc",
   "metadata": {},
   "source": [
    "We can calculate the average a of variable:"
   ]
  },
  {
   "cell_type": "code",
   "execution_count": 180,
   "id": "a6604c10-f68e-47fc-bed9-23bf9517abc6",
   "metadata": {},
   "outputs": [
    {
     "data": {
      "text/html": [
       "70.4062041067808"
      ],
      "text/latex": [
       "70.4062041067808"
      ],
      "text/markdown": [
       "70.4062041067808"
      ],
      "text/plain": [
       "[1] 70.4062"
      ]
     },
     "metadata": {},
     "output_type": "display_data"
    }
   ],
   "source": [
    "mean(weight)"
   ]
  },
  {
   "cell_type": "markdown",
   "id": "1d89257f-15ce-43ed-8f06-2d3d27661a62",
   "metadata": {},
   "source": [
    "Sometimes we are interested in sorting or carving our data up, and doing stats on a part of it. We can use indexing for this. For example, we might just want the average of each species in our study"
   ]
  },
  {
   "cell_type": "markdown",
   "id": "a56ecdb1-3f3e-466a-ba70-f9c324648a89",
   "metadata": {},
   "source": [
    "Let's look at how to extract weights for either just the Deers or the Reindeers in our study"
   ]
  },
  {
   "cell_type": "code",
   "execution_count": 181,
   "id": "9facde6b-0bcf-4f3f-8c63-21dd37d7b64d",
   "metadata": {
    "scrolled": true
   },
   "outputs": [
    {
     "data": {
      "text/html": [
       "<style>\n",
       ".list-inline {list-style: none; margin:0; padding: 0}\n",
       ".list-inline>li {display: inline-block}\n",
       ".list-inline>li:not(:last-child)::after {content: \"\\00b7\"; padding: 0 .5ex}\n",
       "</style>\n",
       "<ol class=list-inline><li>51.3799974808658</li><li>67.4409998393907</li><li>53.4828385595329</li><li>55.8221969212136</li><li>55.1952392844334</li><li>71.2915234999053</li><li>47.696440881223</li><li>51.6416828105642</li><li>59.3511214795292</li><li>62.1104513761083</li><li>60.0007175342982</li><li>64.8719020078011</li><li>62.3418713447951</li><li>57.5249006097185</li><li>66.1494535983826</li><li>71.1894704786725</li><li>47.3854848075902</li><li>51.9315611497758</li><li>64.78016945255</li><li>61.8942276237008</li><li>54.5077084253515</li><li>51.2399010798368</li><li>50.1399842718802</li><li>67.0205462419404</li><li>57.7924076408628</li><li>65.0338387385623</li><li>47.4454151595178</li><li>53.5582706614029</li><li>55.5618356087972</li><li>45.7045876275335</li></ol>\n"
      ],
      "text/latex": [
       "\\begin{enumerate*}\n",
       "\\item 51.3799974808658\n",
       "\\item 67.4409998393907\n",
       "\\item 53.4828385595329\n",
       "\\item 55.8221969212136\n",
       "\\item 55.1952392844334\n",
       "\\item 71.2915234999053\n",
       "\\item 47.696440881223\n",
       "\\item 51.6416828105642\n",
       "\\item 59.3511214795292\n",
       "\\item 62.1104513761083\n",
       "\\item 60.0007175342982\n",
       "\\item 64.8719020078011\n",
       "\\item 62.3418713447951\n",
       "\\item 57.5249006097185\n",
       "\\item 66.1494535983826\n",
       "\\item 71.1894704786725\n",
       "\\item 47.3854848075902\n",
       "\\item 51.9315611497758\n",
       "\\item 64.78016945255\n",
       "\\item 61.8942276237008\n",
       "\\item 54.5077084253515\n",
       "\\item 51.2399010798368\n",
       "\\item 50.1399842718802\n",
       "\\item 67.0205462419404\n",
       "\\item 57.7924076408628\n",
       "\\item 65.0338387385623\n",
       "\\item 47.4454151595178\n",
       "\\item 53.5582706614029\n",
       "\\item 55.5618356087972\n",
       "\\item 45.7045876275335\n",
       "\\end{enumerate*}\n"
      ],
      "text/markdown": [
       "1. 51.3799974808658\n",
       "2. 67.4409998393907\n",
       "3. 53.4828385595329\n",
       "4. 55.8221969212136\n",
       "5. 55.1952392844334\n",
       "6. 71.2915234999053\n",
       "7. 47.696440881223\n",
       "8. 51.6416828105642\n",
       "9. 59.3511214795292\n",
       "10. 62.1104513761083\n",
       "11. 60.0007175342982\n",
       "12. 64.8719020078011\n",
       "13. 62.3418713447951\n",
       "14. 57.5249006097185\n",
       "15. 66.1494535983826\n",
       "16. 71.1894704786725\n",
       "17. 47.3854848075902\n",
       "18. 51.9315611497758\n",
       "19. 64.78016945255\n",
       "20. 61.8942276237008\n",
       "21. 54.5077084253515\n",
       "22. 51.2399010798368\n",
       "23. 50.1399842718802\n",
       "24. 67.0205462419404\n",
       "25. 57.7924076408628\n",
       "26. 65.0338387385623\n",
       "27. 47.4454151595178\n",
       "28. 53.5582706614029\n",
       "29. 55.5618356087972\n",
       "30. 45.7045876275335\n",
       "\n",
       "\n"
      ],
      "text/plain": [
       " [1] 51.38000 67.44100 53.48284 55.82220 55.19524 71.29152 47.69644 51.64168\n",
       " [9] 59.35112 62.11045 60.00072 64.87190 62.34187 57.52490 66.14945 71.18947\n",
       "[17] 47.38548 51.93156 64.78017 61.89423 54.50771 51.23990 50.13998 67.02055\n",
       "[25] 57.79241 65.03384 47.44542 53.55827 55.56184 45.70459"
      ]
     },
     "metadata": {},
     "output_type": "display_data"
    }
   ],
   "source": [
    "weight[Species=='Deer'] # her vil vi kun se vægten for de species der er deer"
   ]
  },
  {
   "cell_type": "code",
   "execution_count": 132,
   "id": "0e1c94c2-f61e-43c8-8066-db6a80b77ae0",
   "metadata": {
    "collapsed": true,
    "jupyter": {
     "outputs_hidden": true
    }
   },
   "outputs": [
    {
     "data": {
      "text/html": [
       "<style>\n",
       ".list-inline {list-style: none; margin:0; padding: 0}\n",
       ".list-inline>li {display: inline-block}\n",
       ".list-inline>li:not(:last-child)::after {content: \"\\00b7\"; padding: 0 .5ex}\n",
       "</style>\n",
       "<ol class=list-inline><li>83.9099201779289</li><li>91.2918642446445</li><li>87.3719799838248</li><li>95.94211082106</li><li>73.4157026094964</li><li>84.8525827024749</li><li>90.7247076758531</li><li>63.6914359037658</li><li>77.290657353222</li><li>67.4195365382374</li><li>70.7323219756232</li><li>66.7370611424797</li><li>86.3629428549214</li><li>85.3782114778538</li><li>81.6551814051021</li><li>84.3046675896994</li><li>79.0421065672611</li><li>78.5704607418933</li><li>82.8915322499909</li><li>70.9029605698334</li><li>90.9882953775184</li><li>92.5277565614927</li><li>74.0164006633462</li><li>80.1073268509937</li><li>109.595069604861</li><li>93.4233774415282</li><li>78.7705445941062</li><li>98.1091775099505</li><li>85.7926835373142</li><li>79.2698199472535</li></ol>\n"
      ],
      "text/latex": [
       "\\begin{enumerate*}\n",
       "\\item 83.9099201779289\n",
       "\\item 91.2918642446445\n",
       "\\item 87.3719799838248\n",
       "\\item 95.94211082106\n",
       "\\item 73.4157026094964\n",
       "\\item 84.8525827024749\n",
       "\\item 90.7247076758531\n",
       "\\item 63.6914359037658\n",
       "\\item 77.290657353222\n",
       "\\item 67.4195365382374\n",
       "\\item 70.7323219756232\n",
       "\\item 66.7370611424797\n",
       "\\item 86.3629428549214\n",
       "\\item 85.3782114778538\n",
       "\\item 81.6551814051021\n",
       "\\item 84.3046675896994\n",
       "\\item 79.0421065672611\n",
       "\\item 78.5704607418933\n",
       "\\item 82.8915322499909\n",
       "\\item 70.9029605698334\n",
       "\\item 90.9882953775184\n",
       "\\item 92.5277565614927\n",
       "\\item 74.0164006633462\n",
       "\\item 80.1073268509937\n",
       "\\item 109.595069604861\n",
       "\\item 93.4233774415282\n",
       "\\item 78.7705445941062\n",
       "\\item 98.1091775099505\n",
       "\\item 85.7926835373142\n",
       "\\item 79.2698199472535\n",
       "\\end{enumerate*}\n"
      ],
      "text/markdown": [
       "1. 83.9099201779289\n",
       "2. 91.2918642446445\n",
       "3. 87.3719799838248\n",
       "4. 95.94211082106\n",
       "5. 73.4157026094964\n",
       "6. 84.8525827024749\n",
       "7. 90.7247076758531\n",
       "8. 63.6914359037658\n",
       "9. 77.290657353222\n",
       "10. 67.4195365382374\n",
       "11. 70.7323219756232\n",
       "12. 66.7370611424797\n",
       "13. 86.3629428549214\n",
       "14. 85.3782114778538\n",
       "15. 81.6551814051021\n",
       "16. 84.3046675896994\n",
       "17. 79.0421065672611\n",
       "18. 78.5704607418933\n",
       "19. 82.8915322499909\n",
       "20. 70.9029605698334\n",
       "21. 90.9882953775184\n",
       "22. 92.5277565614927\n",
       "23. 74.0164006633462\n",
       "24. 80.1073268509937\n",
       "25. 109.595069604861\n",
       "26. 93.4233774415282\n",
       "27. 78.7705445941062\n",
       "28. 98.1091775099505\n",
       "29. 85.7926835373142\n",
       "30. 79.2698199472535\n",
       "\n",
       "\n"
      ],
      "text/plain": [
       " [1]  83.90992  91.29186  87.37198  95.94211  73.41570  84.85258  90.72471\n",
       " [8]  63.69144  77.29066  67.41954  70.73232  66.73706  86.36294  85.37821\n",
       "[15]  81.65518  84.30467  79.04211  78.57046  82.89153  70.90296  90.98830\n",
       "[22]  92.52776  74.01640  80.10733 109.59507  93.42338  78.77054  98.10918\n",
       "[29]  85.79268  79.26982"
      ]
     },
     "metadata": {},
     "output_type": "display_data"
    }
   ],
   "source": [
    "weight[species=='Reindeer']"
   ]
  },
  {
   "cell_type": "markdown",
   "id": "57b547cd-5282-4214-a1a2-297ad830097f",
   "metadata": {},
   "source": [
    "...so that we can compare the average weight"
   ]
  },
  {
   "cell_type": "code",
   "execution_count": 182,
   "id": "9990886d-6ac5-4e29-85de-747d0ad4c3c1",
   "metadata": {},
   "outputs": [
    {
     "data": {
      "text/html": [
       "57.7162248731912"
      ],
      "text/latex": [
       "57.7162248731912"
      ],
      "text/markdown": [
       "57.7162248731912"
      ],
      "text/plain": [
       "[1] 57.71622"
      ]
     },
     "metadata": {},
     "output_type": "display_data"
    }
   ],
   "source": [
    "mean(weight[species=='Deer'])"
   ]
  },
  {
   "cell_type": "code",
   "execution_count": 183,
   "id": "6689c4fe-896a-4e30-b11c-6956925256bf",
   "metadata": {},
   "outputs": [
    {
     "data": {
      "text/html": [
       "83.0961833403705"
      ],
      "text/latex": [
       "83.0961833403705"
      ],
      "text/markdown": [
       "83.0961833403705"
      ],
      "text/plain": [
       "[1] 83.09618"
      ]
     },
     "metadata": {},
     "output_type": "display_data"
    }
   ],
   "source": [
    "mean(weight[species=='Reindeer'])"
   ]
  },
  {
   "cell_type": "markdown",
   "id": "9f166575-3af4-4bff-9631-9916303268b5",
   "metadata": {},
   "source": [
    "Indexing is incredibly useful. You need to know it. But it is awkward for data frames. We can make a table instead using some basic data manipulation functions. This new table is a new data frame"
   ]
  },
  {
   "cell_type": "code",
   "execution_count": 184,
   "id": "5cf24b76-ad38-4558-b685-1f0abb95f064",
   "metadata": {},
   "outputs": [],
   "source": [
    "meanTable <- deerStudy %>% # forstår ikke helt - noget med at vi tager noget data (deerStudy) og efter tegnene skriver hvad vi vil med det\n",
    "    group_by(species) %>% # hun kalder det at: pass on this data\n",
    "    summarize(MeanWeight = mean(weight)) #MeanWeight er bare for at give et bedre navn til kolonnen - har ingen øvring funktion "
   ]
  },
  {
   "cell_type": "code",
   "execution_count": 185,
   "id": "91510085-e3e0-4206-8b29-6ebe57db237f",
   "metadata": {},
   "outputs": [
    {
     "data": {
      "text/html": [
       "<table class=\"dataframe\">\n",
       "<caption>A tibble: 2 × 2</caption>\n",
       "<thead>\n",
       "\t<tr><th scope=col>species</th><th scope=col>MeanWeight</th></tr>\n",
       "\t<tr><th scope=col>&lt;chr&gt;</th><th scope=col>&lt;dbl&gt;</th></tr>\n",
       "</thead>\n",
       "<tbody>\n",
       "\t<tr><td>Deer    </td><td>57.71622</td></tr>\n",
       "\t<tr><td>Reindeer</td><td>83.09618</td></tr>\n",
       "</tbody>\n",
       "</table>\n"
      ],
      "text/latex": [
       "A tibble: 2 × 2\n",
       "\\begin{tabular}{ll}\n",
       " species & MeanWeight\\\\\n",
       " <chr> & <dbl>\\\\\n",
       "\\hline\n",
       "\t Deer     & 57.71622\\\\\n",
       "\t Reindeer & 83.09618\\\\\n",
       "\\end{tabular}\n"
      ],
      "text/markdown": [
       "\n",
       "A tibble: 2 × 2\n",
       "\n",
       "| species &lt;chr&gt; | MeanWeight &lt;dbl&gt; |\n",
       "|---|---|\n",
       "| Deer     | 57.71622 |\n",
       "| Reindeer | 83.09618 |\n",
       "\n"
      ],
      "text/plain": [
       "  species  MeanWeight\n",
       "1 Deer     57.71622  \n",
       "2 Reindeer 83.09618  "
      ]
     },
     "metadata": {},
     "output_type": "display_data"
    }
   ],
   "source": [
    "meanTable"
   ]
  },
  {
   "cell_type": "markdown",
   "id": "f31aed63-90b9-497f-8baf-e034626dff8c",
   "metadata": {},
   "source": [
    "This is the exact same logic as with the plotting. First you define the data you are working on, then you sequentially operate on it. This is called \"piping\"."
   ]
  },
  {
   "cell_type": "markdown",
   "id": "cd8557f1-fb50-4db7-a6cc-834c89d809dd",
   "metadata": {},
   "source": [
    "The mean is only one statistic. We can also look at other statistics. How about the median?"
   ]
  },
  {
   "cell_type": "code",
   "execution_count": 186,
   "id": "7184cb98-8833-4e9b-945d-73c6276a1e16",
   "metadata": {},
   "outputs": [],
   "source": [
    "medianTable <- deerStudy %>%\n",
    "    group_by(species) %>% # grupperer for hver kategori der findes\n",
    "    summarize(MedianWeight = median(weight))"
   ]
  },
  {
   "cell_type": "code",
   "execution_count": 187,
   "id": "edbc44e9-6df0-4ebe-8e99-f7afa84b17ea",
   "metadata": {},
   "outputs": [
    {
     "data": {
      "text/html": [
       "<table class=\"dataframe\">\n",
       "<caption>A tibble: 2 × 2</caption>\n",
       "<thead>\n",
       "\t<tr><th scope=col>species</th><th scope=col>MedianWeight</th></tr>\n",
       "\t<tr><th scope=col>&lt;chr&gt;</th><th scope=col>&lt;dbl&gt;</th></tr>\n",
       "</thead>\n",
       "<tbody>\n",
       "\t<tr><td>Deer    </td><td>56.67355</td></tr>\n",
       "\t<tr><td>Reindeer</td><td>84.61996</td></tr>\n",
       "</tbody>\n",
       "</table>\n"
      ],
      "text/latex": [
       "A tibble: 2 × 2\n",
       "\\begin{tabular}{ll}\n",
       " species & MedianWeight\\\\\n",
       " <chr> & <dbl>\\\\\n",
       "\\hline\n",
       "\t Deer     & 56.67355\\\\\n",
       "\t Reindeer & 84.61996\\\\\n",
       "\\end{tabular}\n"
      ],
      "text/markdown": [
       "\n",
       "A tibble: 2 × 2\n",
       "\n",
       "| species &lt;chr&gt; | MedianWeight &lt;dbl&gt; |\n",
       "|---|---|\n",
       "| Deer     | 56.67355 |\n",
       "| Reindeer | 84.61996 |\n",
       "\n"
      ],
      "text/plain": [
       "  species  MedianWeight\n",
       "1 Deer     56.67355    \n",
       "2 Reindeer 84.61996    "
      ]
     },
     "metadata": {},
     "output_type": "display_data"
    }
   ],
   "source": [
    "medianTable"
   ]
  },
  {
   "cell_type": "markdown",
   "id": "d83c236f-8520-4227-aa14-459142bd1c0a",
   "metadata": {},
   "source": [
    "We can also look at the standard deviation."
   ]
  },
  {
   "cell_type": "code",
   "execution_count": 188,
   "id": "a56f9cc9-7436-4384-8568-5d171d4b3efb",
   "metadata": {},
   "outputs": [],
   "source": [
    "sdTable <- deerStudy %>%\n",
    "    group_by(species) %>%\n",
    "    summarize(StandardDeviation = sd(weight))"
   ]
  },
  {
   "cell_type": "code",
   "execution_count": 189,
   "id": "36645a7d-b6fc-41e8-bacc-3e748ab937e0",
   "metadata": {},
   "outputs": [
    {
     "data": {
      "text/html": [
       "<table class=\"dataframe\">\n",
       "<caption>A tibble: 2 × 2</caption>\n",
       "<thead>\n",
       "\t<tr><th scope=col>species</th><th scope=col>StandardDeviation</th></tr>\n",
       "\t<tr><th scope=col>&lt;chr&gt;</th><th scope=col>&lt;dbl&gt;</th></tr>\n",
       "</thead>\n",
       "<tbody>\n",
       "\t<tr><td>Deer    </td><td>7.347659</td></tr>\n",
       "\t<tr><td>Reindeer</td><td>8.805783</td></tr>\n",
       "</tbody>\n",
       "</table>\n"
      ],
      "text/latex": [
       "A tibble: 2 × 2\n",
       "\\begin{tabular}{ll}\n",
       " species & StandardDeviation\\\\\n",
       " <chr> & <dbl>\\\\\n",
       "\\hline\n",
       "\t Deer     & 7.347659\\\\\n",
       "\t Reindeer & 8.805783\\\\\n",
       "\\end{tabular}\n"
      ],
      "text/markdown": [
       "\n",
       "A tibble: 2 × 2\n",
       "\n",
       "| species &lt;chr&gt; | StandardDeviation &lt;dbl&gt; |\n",
       "|---|---|\n",
       "| Deer     | 7.347659 |\n",
       "| Reindeer | 8.805783 |\n",
       "\n"
      ],
      "text/plain": [
       "  species  StandardDeviation\n",
       "1 Deer     7.347659         \n",
       "2 Reindeer 8.805783         "
      ]
     },
     "metadata": {},
     "output_type": "display_data"
    }
   ],
   "source": [
    "sdTable"
   ]
  },
  {
   "cell_type": "markdown",
   "id": "7d9851c2-683b-4162-8228-8ca6df4e8645",
   "metadata": {},
   "source": [
    "Now we are almost ready to do some statistics. We will cover statistical concepts in the next lecture. BUt as a teaser, let's look at a quick comparison, and see if these means are really different."
   ]
  },
  {
   "cell_type": "code",
   "execution_count": 190,
   "id": "34100bd1-d979-4fd9-a31b-c552ab8cd97c",
   "metadata": {},
   "outputs": [
    {
     "data": {
      "text/plain": [
       "\n",
       "\tWelch Two Sample t-test\n",
       "\n",
       "data:  weight1 and weight2\n",
       "t = -12.121, df = 56.198, p-value < 2.2e-16\n",
       "alternative hypothesis: true difference in means is not equal to 0\n",
       "95 percent confidence interval:\n",
       " -29.57418 -21.18574\n",
       "sample estimates:\n",
       "mean of x mean of y \n",
       " 57.71622  83.09618 \n"
      ]
     },
     "metadata": {},
     "output_type": "display_data"
    }
   ],
   "source": [
    "t.test(weight1, weight2)"
   ]
  },
  {
   "cell_type": "markdown",
   "id": "504a0793-73b2-481f-95ec-1f32b062a737",
   "metadata": {},
   "source": [
    "You have learned about indexing. You have learned about basic statistical functions. You have learned how to generate summary tables. You have run your first statistical simulation, and your first hypothesis test."
   ]
  }
 ],
 "metadata": {
  "kernelspec": {
   "display_name": "R",
   "language": "R",
   "name": "ir"
  },
  "language_info": {
   "codemirror_mode": "r",
   "file_extension": ".r",
   "mimetype": "text/x-r-source",
   "name": "R",
   "pygments_lexer": "r",
   "version": "4.4.1"
  }
 },
 "nbformat": 4,
 "nbformat_minor": 5
}
